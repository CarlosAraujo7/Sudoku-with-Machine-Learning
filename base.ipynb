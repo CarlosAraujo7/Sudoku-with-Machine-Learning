{
 "cells": [
  {
   "cell_type": "markdown",
   "metadata": {},
   "source": [
    "#### Sobre o problema"
   ]
  },
  {
   "cell_type": "markdown",
   "metadata": {},
   "source": [
    "- O Sudoku Clássico consiste em uma grade 9x9 `(com um pequeno quadrado (célula) para cada número e uma outra divisão em grades de 3x3, representando as regiões (quadrantes))`, parcialmente preenchida, onde devem ser encontrados os locais corretos para preencher com números de 1 a 9, de modo com que nenhum número se repita na mesma linha, coluna ou quadrante."
   ]
  },
  {
   "cell_type": "markdown",
   "metadata": {},
   "source": [
    "<center>\n",
    "<img src=\"https://upload.wikimedia.org/wikipedia/commons/thumb/f/ff/Sudoku-by-L2G-20050714.svg/250px-Sudoku-by-L2G-20050714.svg.png\" alt=\"Sudoku Clássico\">\n",
    "\n",
    "<img src=\"https://upload.wikimedia.org/wikipedia/commons/thumb/3/31/Sudoku-by-L2G-20050714_solution.svg/250px-Sudoku-by-L2G-20050714_solution.svg.png\" alt=\"Sudoku Clássico Resolvido\">\n",
    "</center>"
   ]
  },
  {
   "cell_type": "markdown",
   "metadata": {},
   "source": [
    "- Em algumas instâncias do sudoku parcialmente preenchido, é possível encontrar mais de uma solução possível, mas como o sudoku é considerado um problema de lógica pura, é esperado que exista somente uma solução possível. "
   ]
  },
  {
   "cell_type": "markdown",
   "metadata": {},
   "source": [
    "#### Variantes do sudoku"
   ]
  },
  {
   "cell_type": "markdown",
   "metadata": {},
   "source": [
    "- O sudoku de 9x9 é o mais conhecido, porém, existem diversas variações do problema com outros tamanhos e abordagens. Abaixo segue uma representação de um sudoku 9x9, mas com seus quadrantes definidos aleatoriamente."
   ]
  },
  {
   "cell_type": "markdown",
   "metadata": {},
   "source": [
    "<center>\n",
    "<img src=\"https://upload.wikimedia.org/wikipedia/commons/thumb/5/5f/Nonomino_Sudoku.svg/220px-Nonomino_Sudoku.svg.png\" alt=\"Sudoku Variante\">\n",
    "</center>"
   ]
  },
  {
   "cell_type": "markdown",
   "metadata": {},
   "source": [
    "- Modelagem do sudoku de tamanho 10x10"
   ]
  },
  {
   "cell_type": "markdown",
   "metadata": {},
   "source": [
    "<center>\n",
    "<img src=\"10x10.png\" alt=\"Sudoku 10x10\" width=\"250\" height=\"250\">\n",
    "</center>"
   ]
  },
  {
   "cell_type": "markdown",
   "metadata": {},
   "source": [
    "- Modelagem do sudoku de tamanho 15x15"
   ]
  },
  {
   "cell_type": "markdown",
   "metadata": {},
   "source": [
    "<center>\n",
    "<img src=\"https://static.wikia.nocookie.net/logic-puzzles/images/6/63/15x15_Sudoku.png/revision/latest?cb=20140518185305\" alt=\"Sudoku 15x15\">\n",
    "</center>"
   ]
  },
  {
   "cell_type": "markdown",
   "metadata": {},
   "source": [
    "- Alguns tamanhos de sudoku, geralmente os sudokus de tamanhos primos, como 11x11, 13x13, 17x17... São considerados `pseudosudokus` por não poderem ter as células distribuidas de forma igualitária em cada quadrante. "
   ]
  },
  {
   "cell_type": "markdown",
   "metadata": {},
   "source": [
    "<center>\n",
    "<img src=\"11x11.png\" alt=\"Sudoku 10x10\" width=\"300\" height=\"300\">\n",
    "</center>"
   ]
  },
  {
   "cell_type": "markdown",
   "metadata": {},
   "source": [
    "#### Abordagem planejada"
   ]
  },
  {
   "cell_type": "markdown",
   "metadata": {},
   "source": [
    "- Planejamos uma abordagem `não-supervisionada` de máquina, onde vamos modelar a `grade` do sudoku para um formato de grafo. O tamanho da grade do sudoku não vai ser fixo, estamos planejando trabalhar com um `n-sudoku`. Planejamos utilizar algum algoritmo de coloração de vértices `(em aberto ainda)` para aplicar as restrições do sudoku e ainda considerar cada cluster como sendo uma cor também."
   ]
  },
  {
   "cell_type": "markdown",
   "metadata": {},
   "source": [
    "#### Problemas esperados"
   ]
  },
  {
   "cell_type": "markdown",
   "metadata": {},
   "source": [
    "- Para uma abordagem com n-sudokus, é esperado que para alguns tamanhos de grade, como 10x10 ou 11x11, a forma como os quadrantes vão ser construidos pode acabar se tornando um contra-tempo na hora de visualizar melhor o agrupamento dos clusters. Por isso, optamos em trabalhar com grades que sejam múltiplas de três, de forma a padronizar as saídas e melhorar a visualização. "
   ]
  },
  {
   "cell_type": "markdown",
   "metadata": {},
   "source": [
    "- Segundo problema esperado, estão ocorrendo colisões porque ainda não conseguimos aplicar restrições de cores aos vértices, mas conseguimos atribuir um cluster para cada quadrante. Estamos pensando em uma abordagem que consiga afastar os dados o máximo possível uns dos outros. `(em aberto ainda)`"
   ]
  },
  {
   "cell_type": "markdown",
   "metadata": {},
   "source": [
    "#### Restrições esperadas"
   ]
  },
  {
   "cell_type": "markdown",
   "metadata": {},
   "source": [
    "1. Não pode ocorrer repetição de cor na linha;\n",
    "\n",
    "2. Não pode ocorrer repetição de cor na coluna;\n",
    "\n",
    "3. Não pode ocorrer repetição de cor no quadrante;\n",
    "\n",
    "4. Cada cor deve aparecer exatamente N-vezes\n",
    "\n",
    "5. Não conseguimos específicar a ausência da cor `(maior problema até agora)`\n",
    "\n",
    "6. Estavamos tentando resolver já especificando algumas cores, mas decidimos dar um passo para trás e tentar resolver primeiro com a ausência de cores em todo o sudoku."
   ]
  },
  {
   "cell_type": "markdown",
   "metadata": {},
   "source": [
    "<center>\n",
    "<img src=\"ligações.png\" alt=\"Sudoku ligações\">\n",
    "</center>"
   ]
  },
  {
   "cell_type": "markdown",
   "metadata": {},
   "source": [
    "#### Trabalhos relacionados"
   ]
  },
  {
   "cell_type": "markdown",
   "metadata": {},
   "source": [
    "    Abordagem com Redes Neurais e Aprendizado Profundo\""
   ]
  },
  {
   "cell_type": "markdown",
   "metadata": {},
   "source": [
    "- Redes Neurais Convolucionais (CNNs) são um tipo de arquitetura de rede neural projetada especialmente para o processamento de dados que têm uma estrutura de grade, como imagens."
   ]
  },
  {
   "cell_type": "markdown",
   "metadata": {},
   "source": [
    "- As CNNs foram inspiradas na arquitetura do córtex visual do cérebro humano, que é altamente eficaz na detecção de características visuais em camadas hierárquicas. A principal características da CNN aplicada nesse artigo é a de camadas convolucionais."
   ]
  },
  {
   "cell_type": "markdown",
   "metadata": {},
   "source": [
    "- Construindo um modelo de aprendizado profundo para resolver o Sudoku: um estudo de caso com CNNs, Qichun Yu"
   ]
  },
  {
   "cell_type": "markdown",
   "metadata": {},
   "source": [
    "- As camadas convolucionais são o bloco fundamental das CNNs. Elas consistem em neurônios que aplicam operações de convolução nas entradas. A convolução envolve a aplicação de filtros ou kernels deslizantes sobre a entrada para extrair características locais. Esses filtros aprendem a detectar padrões, como bordas, texturas e formas."
   ]
  },
  {
   "cell_type": "markdown",
   "metadata": {},
   "source": [
    "- Ele Utilizou 11 modelos de redes neurais convolucionais, os 10 primeiros tinham taxa de acerto inferiores a 75%. No décimo primeiro, a taxa de precisão subiu para 95% no treinamento e 98% na validação. O modelo 11 inclui 9 camadas de convolução com 512 kernels. O estudo descobriu que um aumento no número de camadas e no número de neurônios por camada pode ajudar a melhorar a precisão do modelo de rede neural."
   ]
  },
  {
   "cell_type": "markdown",
   "metadata": {},
   "source": [
    "- Divisão de dados com uma proporção de 80/20. Os primeiros 800.000 dados (80%) como conjunto de treinamento e os últimos 200.000 dados (20%) como conjunto de teste."
   ]
  },
  {
   "cell_type": "markdown",
   "metadata": {},
   "source": [
    "- Aplicando em um sudoku real, o modelo teve uma precisão de acertar 196 mil casos de 200 mil."
   ]
  },
  {
   "cell_type": "markdown",
   "metadata": {},
   "source": [
    "- Por fim, a abordagem com redes neurais e aprendizado profundo retornou um resultado ótimo e consegue ser capaz de resolver problemas de um sudoku clássico (9x9)"
   ]
  },
  {
   "cell_type": "markdown",
   "metadata": {},
   "source": [
    "- Site onde foram conseguidos os 1 milhão de sudokus: https://www.kaggle.com/datasets/bryanpark/sudoku"
   ]
  },
  {
   "cell_type": "markdown",
   "metadata": {},
   "source": [
    "    Abordagem com Algoritmo Genético"
   ]
  },
  {
   "cell_type": "markdown",
   "metadata": {},
   "source": [
    "- Um algoritmo genético NÃO é um algoritmo de aprendizagem."
   ]
  },
  {
   "cell_type": "markdown",
   "metadata": {},
   "source": [
    "- Algoritmos evolucionários, um algoritmo genético segue o mesmo padrão de comportamento básico:\n",
    "\n",
    "    1. Um conjunto de soluções preliminares é gerada aleatoriamente; este conjunto é chamado de população; geralmente o número de soluções é arbitrado em 100; como haverá várias versões desta população, cada uma das versões é chamada de geração; a primeiríssima geração é chamada de geração inicial; cada solução dessas é chamada de indivíduo;\n",
    "\n",
    "    2. As soluções presentes na geração atual são avaliadas por uma função capaz de atestar a qualidade de um dado indivíduo; a qualidade varia, normalmente, entre 0 e 1, onde 1 indica a solução ótima e os outros valores uma medida de proximidade da solução ótima; esta função é chamada de função de fitness;\n",
    "\n",
    "    3. Cada um dos indivíduos de toda a população é avaliado sob a função de fitness;\n",
    "\n",
    "    4. Com a qualidade de cada um dos indivíduos calculada, avalia-se se já existe algum indivíduo de qualidade suficiente para servir de solução; em caso positivo a busca termina; pode-se também decidir terminar a execução se a quantidade de gerações até o momento atingiu um limiar de parada;\n",
    "\n",
    "    5. No caso de nenhum individuo representar uma solução aceitável, alguma eurística é adotada para decidir quais dos indivíduos da geração atual devem passar para a geração seguinte e quais desaparecerão; assim, depois de selecionados os indivíduos para compor a geração seguinte, esta pode ter que ser complementada com novos indivíduos, novamente gerados pseudo-aleatoriamente ou por algum outra heurística;\n",
    "\n",
    "    6. Com a nova geração pronta, retorna-se ao passo 2."
   ]
  },
  {
   "cell_type": "markdown",
   "metadata": {},
   "source": [
    "- Como todo algoritmo evolucionário, não se espera chegar à solução ótima, mas se espera chegar a uma solução de qualidade 95% ao menos com esforço menor que 10% da busca exaustiva."
   ]
  },
  {
   "cell_type": "markdown",
   "metadata": {},
   "source": [
    "- Um artigo sobre algoritmo genético para resolução do sudoku foi publicado na Conferência Internacional sobre Técnicas Elétricas, Eletrônicas e de Otimização 2016 (ICEEOT). Título do artigo: Uma nova abordagem de algoritmo genético de vários estágios para resolver quebra-cabeças de Sudoku"
   ]
  },
  {
   "cell_type": "markdown",
   "metadata": {},
   "source": [
    "- Nesse artigo, os algoritmos foram aplicados a sudokus de níves: simples, fácil, médio e difícil. A taxa de sucesso de saída não foi exatamente tão boa, como mostrado na imagem a seguir:"
   ]
  },
  {
   "cell_type": "markdown",
   "metadata": {},
   "source": [
    "<center>\n",
    "<img src=\"ciclos.png\" alt=\"ciclos resultados\" width=\"250\" height=\"250\">\n",
    "</center>"
   ]
  },
  {
   "cell_type": "markdown",
   "metadata": {},
   "source": [
    "### Bibliotecas"
   ]
  },
  {
   "cell_type": "code",
   "execution_count": 23,
   "metadata": {},
   "outputs": [],
   "source": [
    "# Para criação e manipulação de DataFrame\n",
    "import pandas as pd\n",
    "\n",
    "# Para trabalhar com arrays e matrizes multidimensionais e outras funções matemáticas\n",
    "import numpy as np\n",
    "\n",
    "# Criação e manipulação de Grafos\n",
    "import networkx as nx\n",
    "\n",
    "# Para visualização dos dados\n",
    "import matplotlib.pyplot as plt\n",
    "import plotly.express as px\n",
    "\n",
    "# Para Padronização dos dados\n",
    "from sklearn.preprocessing import StandardScaler \n",
    "\n",
    "# Para o k-means\n",
    "from sklearn.cluster import KMeans\n",
    "\n",
    "# Para o Agrupamento Hierarquico\n",
    "from sklearn.cluster import AgglomerativeClustering\n",
    "\n",
    "# Para o Agrupamento com base na densidade\n",
    "from sklearn.cluster import DBSCAN"
   ]
  },
  {
   "cell_type": "markdown",
   "metadata": {},
   "source": [
    "### Criação do grafo"
   ]
  },
  {
   "cell_type": "markdown",
   "metadata": {},
   "source": [
    "#### Biblioteca networkx"
   ]
  },
  {
   "cell_type": "markdown",
   "metadata": {},
   "source": [
    "1. Criação de Grafos:\n",
    "- `nx.Graph()`: Cria um grafo não direcionado.\n",
    "- `nx.DiGraph()`: Cria um grafo direcionado.\n",
    "\n",
    "2. Adição e Remoção de Vértice e Arestas:\n",
    "\n",
    "- `G.add_node(node)`: Adiciona um nó ao grafo.\n",
    "- `G.add_edge(node1, node2)`: Adiciona uma aresta entre dois vértice.\n",
    "- `G.remove_node(node)`: Remove um vértice do grafo.\n",
    "- `G.remove_edge(node1, node2)`: Remove a aresta entre dois vértice.\n",
    "\n",
    "4. Visualização de Grafos:\n",
    "\n",
    "- `nx.draw(G)`: Desenha o grafo na tela.\n",
    "- `nx.draw_shell(G)`: Desenha o grafo em um layout \"shell\".\n",
    "- `nx.draw_circular(G)`: Desenha o grafo em um layout circular.\n",
    "\n",
    "4. Acesso a Atributos de Nós e Arestas:\n",
    "\n",
    "- `G.nodes()`: Retorna uma lista de todos os nós.\n",
    "- `G.edges()`: Retorna uma lista de todas as arestas.\n",
    "- `G[v1]`: Retorna um dicionário de vizinhos de um nó.\n",
    "\n",
    "5. Informações sobre o Grafo:\n",
    "\n",
    "- `nx.is_connected(G)`: Verifica se o grafo é conexo.\n",
    "\n",
    "6. Algoritmos de Grafos:\n",
    "\n",
    "- `nx.shortest_path(G, vertice_inicial, vertice_final)`: Encontra o caminho mais curto entre dois vértice.\n",
    "- `nx.minimum_spanning_tree(G)`: Encontra a árvore de expansão mínima.\n",
    "- `nx.degree_centrality(G)`: Calcula a centralidade dos vértice.\n",
    "\n",
    "7. Análise de Redes:\n",
    "\n",
    "- `nx.clustering(G)`: Calcula o coeficiente de aglomeração de cada vértice. Para grafos não ponderados, o agrupamento de um vértice é a fração de triângulos possíveis que existem.\n",
    "- `nx.average_shortest_path_length(G)`: Calcula o caminho médio mais curto em um grafo."
   ]
  },
  {
   "cell_type": "markdown",
   "metadata": {},
   "source": [
    "#### Modelando o Sudoku NxN em um grafo"
   ]
  },
  {
   "cell_type": "code",
   "execution_count": 24,
   "metadata": {},
   "outputs": [],
   "source": [
    "def create_sudoku_grafo(N):\n",
    "    if N % 3 == 0:\n",
    "        G = nx.Graph()\n",
    "\n",
    "        info_vertices_sudoku = []\n",
    "\n",
    "        for line in range(1, N + 1): # Para as linhas\n",
    "            for column in range(1, N + 1): # Para as colunas\n",
    "                quadrant = (line - 1) // int(np.sqrt(N)) * int(np.sqrt(N)) + (column - 1) // int(np.sqrt(N)) + 1 # Formula for calculating quadrants in Sudoku\n",
    "                info_vertices_sudoku.append([line, column, quadrant])\n",
    "        \n",
    "        for vertice in info_vertices_sudoku:\n",
    "            vertice_grafo = int(str(vertice[0]) + str(vertice[1]) + str(vertice[2]))\n",
    "            G.add_node(vertice_grafo)\n",
    "\n",
    "        for vertice in info_vertices_sudoku:\n",
    "            for vertice_adj in info_vertices_sudoku:\n",
    "                if vertice != vertice_adj: # Não pode ter laço\n",
    "                    # Se tiverem a mesma linha, coluna ou quadrante, significa que existe uma aresta.\n",
    "                    if vertice[0] == vertice_adj[0] or vertice[1] == vertice_adj[1] or vertice[2] == vertice_adj[2]:\n",
    "                        G.add_edge(int(str(vertice[0]) + str(vertice[1]) + str(vertice[2])), int(str(vertice_adj[0]) + str(vertice_adj[1]) + str(vertice_adj[2])))\n",
    "\n",
    "        return G\n",
    "    else:\n",
    "        print(\"The size of N is not a multiple of 3.\")"
   ]
  },
  {
   "cell_type": "markdown",
   "metadata": {},
   "source": [
    "Essa função cria um DataFame que representa um tabuleiro de Sudoku NxN, onde cada registro contém informações sobe a linha, coluna e quadrante do vértice.\n",
    "\n",
    "- Cada vértice é representado por um número de `três` dígitos. Por exemplo, `123` indica que o vértice pertence à `linha 1`, `coluna 2` e `quadrante 3`.\n",
    "\n",
    "- `quadrant`: Calcula o número do quadrante ao qual o vértice pertence. Esta linha utiliza uma fórmula que é comummente usada para determinar o quadrante de uma célula em um tabuleiro de Sudoku."
   ]
  },
  {
   "cell_type": "code",
   "execution_count": 25,
   "metadata": {},
   "outputs": [
    {
     "data": {
      "image/png": "[encoded data removed]",
      "text/plain": [
       "<Figure size 600x600 with 1 Axes>"
      ]
     },
     "metadata": {},
     "output_type": "display_data"
    }
   ],
   "source": [
    "grafo = create_sudoku_grafo(9)\n",
    "type(grafo)\n",
    "\n",
    "pos = nx.spring_layout(grafo)\n",
    "\n",
    "plt.figure(figsize=(6, 6))\n",
    "nx.draw(grafo, pos, with_labels=True, node_color='lightblue', node_size=800, font_size=12, edge_color='gray', font_weight='bold')\n",
    "\n",
    "plt.show()"
   ]
  },
  {
   "cell_type": "markdown",
   "metadata": {},
   "source": [
    "### Criação do dataframe"
   ]
  },
  {
   "cell_type": "markdown",
   "metadata": {},
   "source": [
    "#### 1º Abordagem: criar um dataframe a partir do Sudoku em si"
   ]
  },
  {
   "cell_type": "code",
   "execution_count": 26,
   "metadata": {},
   "outputs": [],
   "source": [
    "def create_sudoku_dataframe(N):\n",
    "    if N % 3 == 0: # It will only accept sudoku sizes that are multiples of 3 to standardize the quadrants\n",
    "\n",
    "        data = []\n",
    "\n",
    "        for line in range(1, N + 1): # For the lines\n",
    "            for column in range(1, N + 1): # For de columns\n",
    "                quadrant = (line - 1) // int(np.sqrt(N)) * int(np.sqrt(N)) + (column - 1) // int(np.sqrt(N)) + 1\n",
    "                    # Formula for calculating quadrants in Sudoku\n",
    "                data.append([line, column, quadrant])\n",
    "\n",
    "        columns = ['line_v', 'column_v', 'quadrant_v']\n",
    "\n",
    "        data_frame = pd.DataFrame(data, columns = columns)\n",
    "\n",
    "        return data_frame\n",
    "    else:\n",
    "        print(\"The size of N is not a multiple of 3.\")"
   ]
  },
  {
   "cell_type": "markdown",
   "metadata": {},
   "source": [
    "\n",
    "- `pd.DataFrame(data, columns = columns)`: Recebe uma matriz onde cada linha possui três valores, juntamente com as colunas correspondentes especificadas em `columns`."
   ]
  },
  {
   "cell_type": "code",
   "execution_count": 27,
   "metadata": {},
   "outputs": [],
   "source": [
    "sudoku_df = create_sudoku_dataframe(9)"
   ]
  },
  {
   "cell_type": "markdown",
   "metadata": {},
   "source": [
    "Estamos Trabalhando com sudo múltiplo de 3 nesse estágio inicial da pesquisa."
   ]
  },
  {
   "cell_type": "code",
   "execution_count": 28,
   "metadata": {},
   "outputs": [
    {
     "data": {
      "text/plain": [
       "(81, 3)"
      ]
     },
     "execution_count": 28,
     "metadata": {},
     "output_type": "execute_result"
    }
   ],
   "source": [
    "sudoku_df.shape"
   ]
  },
  {
   "cell_type": "markdown",
   "metadata": {},
   "source": [
    "Note que foi criado um Sudoku padrão 81x81, com 9 quadrantes."
   ]
  },
  {
   "cell_type": "code",
   "execution_count": 29,
   "metadata": {},
   "outputs": [
    {
     "data": {
      "text/html": [
       "<div>\n",
       "<style scoped>\n",
       "    .dataframe tbody tr th:only-of-type {\n",
       "        vertical-align: middle;\n",
       "    }\n",
       "\n",
       "    .dataframe tbody tr th {\n",
       "        vertical-align: top;\n",
       "    }\n",
       "\n",
       "    .dataframe thead th {\n",
       "        text-align: right;\n",
       "    }\n",
       "</style>\n",
       "<table border=\"1\" class=\"dataframe\">\n",
       "  <thead>\n",
       "    <tr style=\"text-align: right;\">\n",
       "      <th></th>\n",
       "      <th>line_v</th>\n",
       "      <th>column_v</th>\n",
       "      <th>quadrant_v</th>\n",
       "    </tr>\n",
       "  </thead>\n",
       "  <tbody>\n",
       "    <tr>\n",
       "      <th>0</th>\n",
       "      <td>1</td>\n",
       "      <td>1</td>\n",
       "      <td>1</td>\n",
       "    </tr>\n",
       "    <tr>\n",
       "      <th>1</th>\n",
       "      <td>1</td>\n",
       "      <td>2</td>\n",
       "      <td>1</td>\n",
       "    </tr>\n",
       "    <tr>\n",
       "      <th>2</th>\n",
       "      <td>1</td>\n",
       "      <td>3</td>\n",
       "      <td>1</td>\n",
       "    </tr>\n",
       "    <tr>\n",
       "      <th>3</th>\n",
       "      <td>1</td>\n",
       "      <td>4</td>\n",
       "      <td>2</td>\n",
       "    </tr>\n",
       "    <tr>\n",
       "      <th>4</th>\n",
       "      <td>1</td>\n",
       "      <td>5</td>\n",
       "      <td>2</td>\n",
       "    </tr>\n",
       "    <tr>\n",
       "      <th>5</th>\n",
       "      <td>1</td>\n",
       "      <td>6</td>\n",
       "      <td>2</td>\n",
       "    </tr>\n",
       "    <tr>\n",
       "      <th>6</th>\n",
       "      <td>1</td>\n",
       "      <td>7</td>\n",
       "      <td>3</td>\n",
       "    </tr>\n",
       "    <tr>\n",
       "      <th>7</th>\n",
       "      <td>1</td>\n",
       "      <td>8</td>\n",
       "      <td>3</td>\n",
       "    </tr>\n",
       "    <tr>\n",
       "      <th>8</th>\n",
       "      <td>1</td>\n",
       "      <td>9</td>\n",
       "      <td>3</td>\n",
       "    </tr>\n",
       "    <tr>\n",
       "      <th>9</th>\n",
       "      <td>2</td>\n",
       "      <td>1</td>\n",
       "      <td>1</td>\n",
       "    </tr>\n",
       "    <tr>\n",
       "      <th>10</th>\n",
       "      <td>2</td>\n",
       "      <td>2</td>\n",
       "      <td>1</td>\n",
       "    </tr>\n",
       "    <tr>\n",
       "      <th>11</th>\n",
       "      <td>2</td>\n",
       "      <td>3</td>\n",
       "      <td>1</td>\n",
       "    </tr>\n",
       "    <tr>\n",
       "      <th>12</th>\n",
       "      <td>2</td>\n",
       "      <td>4</td>\n",
       "      <td>2</td>\n",
       "    </tr>\n",
       "    <tr>\n",
       "      <th>13</th>\n",
       "      <td>2</td>\n",
       "      <td>5</td>\n",
       "      <td>2</td>\n",
       "    </tr>\n",
       "    <tr>\n",
       "      <th>14</th>\n",
       "      <td>2</td>\n",
       "      <td>6</td>\n",
       "      <td>2</td>\n",
       "    </tr>\n",
       "    <tr>\n",
       "      <th>15</th>\n",
       "      <td>2</td>\n",
       "      <td>7</td>\n",
       "      <td>3</td>\n",
       "    </tr>\n",
       "    <tr>\n",
       "      <th>16</th>\n",
       "      <td>2</td>\n",
       "      <td>8</td>\n",
       "      <td>3</td>\n",
       "    </tr>\n",
       "    <tr>\n",
       "      <th>17</th>\n",
       "      <td>2</td>\n",
       "      <td>9</td>\n",
       "      <td>3</td>\n",
       "    </tr>\n",
       "    <tr>\n",
       "      <th>18</th>\n",
       "      <td>3</td>\n",
       "      <td>1</td>\n",
       "      <td>1</td>\n",
       "    </tr>\n",
       "    <tr>\n",
       "      <th>19</th>\n",
       "      <td>3</td>\n",
       "      <td>2</td>\n",
       "      <td>1</td>\n",
       "    </tr>\n",
       "  </tbody>\n",
       "</table>\n",
       "</div>"
      ],
      "text/plain": [
       "    line_v  column_v  quadrant_v\n",
       "0        1         1           1\n",
       "1        1         2           1\n",
       "2        1         3           1\n",
       "3        1         4           2\n",
       "4        1         5           2\n",
       "5        1         6           2\n",
       "6        1         7           3\n",
       "7        1         8           3\n",
       "8        1         9           3\n",
       "9        2         1           1\n",
       "10       2         2           1\n",
       "11       2         3           1\n",
       "12       2         4           2\n",
       "13       2         5           2\n",
       "14       2         6           2\n",
       "15       2         7           3\n",
       "16       2         8           3\n",
       "17       2         9           3\n",
       "18       3         1           1\n",
       "19       3         2           1"
      ]
     },
     "execution_count": 29,
     "metadata": {},
     "output_type": "execute_result"
    }
   ],
   "source": [
    "sudoku_df.head(20)"
   ]
  },
  {
   "cell_type": "markdown",
   "metadata": {},
   "source": [
    "#### Escalonando os valores"
   ]
  },
  {
   "cell_type": "code",
   "execution_count": 30,
   "metadata": {},
   "outputs": [],
   "source": [
    "scaler = StandardScaler() \n",
    "\n",
    "scaler_sudoku_df = scaler.fit_transform(sudoku_df)"
   ]
  },
  {
   "cell_type": "markdown",
   "metadata": {},
   "source": [
    "`StandardScaler()`: utilizado na fase de pré-processamento para a padronização de um DataFrame. Normalmente a fómula é: `z = (x - mean) / std`, onde z é o novo valor padronizado, x é o valor original, mean é a média e std é o desvio padrão. "
   ]
  },
  {
   "cell_type": "code",
   "execution_count": 31,
   "metadata": {},
   "outputs": [
    {
     "data": {
      "text/plain": [
       "array([[-1.54919334, -1.54919334, -1.54919334],\n",
       "       [-1.54919334, -1.161895  , -1.54919334],\n",
       "       [-1.54919334, -0.77459667, -1.54919334],\n",
       "       [-1.54919334, -0.38729833, -1.161895  ],\n",
       "       [-1.54919334,  0.        , -1.161895  ],\n",
       "       [-1.54919334,  0.38729833, -1.161895  ],\n",
       "       [-1.54919334,  0.77459667, -0.77459667],\n",
       "       [-1.54919334,  1.161895  , -0.77459667],\n",
       "       [-1.54919334,  1.54919334, -0.77459667],\n",
       "       [-1.161895  , -1.54919334, -1.54919334],\n",
       "       [-1.161895  , -1.161895  , -1.54919334],\n",
       "       [-1.161895  , -0.77459667, -1.54919334],\n",
       "       [-1.161895  , -0.38729833, -1.161895  ],\n",
       "       [-1.161895  ,  0.        , -1.161895  ],\n",
       "       [-1.161895  ,  0.38729833, -1.161895  ],\n",
       "       [-1.161895  ,  0.77459667, -0.77459667],\n",
       "       [-1.161895  ,  1.161895  , -0.77459667],\n",
       "       [-1.161895  ,  1.54919334, -0.77459667],\n",
       "       [-0.77459667, -1.54919334, -1.54919334],\n",
       "       [-0.77459667, -1.161895  , -1.54919334],\n",
       "       [-0.77459667, -0.77459667, -1.54919334],\n",
       "       [-0.77459667, -0.38729833, -1.161895  ],\n",
       "       [-0.77459667,  0.        , -1.161895  ],\n",
       "       [-0.77459667,  0.38729833, -1.161895  ],\n",
       "       [-0.77459667,  0.77459667, -0.77459667],\n",
       "       [-0.77459667,  1.161895  , -0.77459667],\n",
       "       [-0.77459667,  1.54919334, -0.77459667],\n",
       "       [-0.38729833, -1.54919334, -0.38729833],\n",
       "       [-0.38729833, -1.161895  , -0.38729833],\n",
       "       [-0.38729833, -0.77459667, -0.38729833],\n",
       "       [-0.38729833, -0.38729833,  0.        ],\n",
       "       [-0.38729833,  0.        ,  0.        ],\n",
       "       [-0.38729833,  0.38729833,  0.        ],\n",
       "       [-0.38729833,  0.77459667,  0.38729833],\n",
       "       [-0.38729833,  1.161895  ,  0.38729833],\n",
       "       [-0.38729833,  1.54919334,  0.38729833],\n",
       "       [ 0.        , -1.54919334, -0.38729833],\n",
       "       [ 0.        , -1.161895  , -0.38729833],\n",
       "       [ 0.        , -0.77459667, -0.38729833],\n",
       "       [ 0.        , -0.38729833,  0.        ],\n",
       "       [ 0.        ,  0.        ,  0.        ],\n",
       "       [ 0.        ,  0.38729833,  0.        ],\n",
       "       [ 0.        ,  0.77459667,  0.38729833],\n",
       "       [ 0.        ,  1.161895  ,  0.38729833],\n",
       "       [ 0.        ,  1.54919334,  0.38729833],\n",
       "       [ 0.38729833, -1.54919334, -0.38729833],\n",
       "       [ 0.38729833, -1.161895  , -0.38729833],\n",
       "       [ 0.38729833, -0.77459667, -0.38729833],\n",
       "       [ 0.38729833, -0.38729833,  0.        ],\n",
       "       [ 0.38729833,  0.        ,  0.        ],\n",
       "       [ 0.38729833,  0.38729833,  0.        ],\n",
       "       [ 0.38729833,  0.77459667,  0.38729833],\n",
       "       [ 0.38729833,  1.161895  ,  0.38729833],\n",
       "       [ 0.38729833,  1.54919334,  0.38729833],\n",
       "       [ 0.77459667, -1.54919334,  0.77459667],\n",
       "       [ 0.77459667, -1.161895  ,  0.77459667],\n",
       "       [ 0.77459667, -0.77459667,  0.77459667],\n",
       "       [ 0.77459667, -0.38729833,  1.161895  ],\n",
       "       [ 0.77459667,  0.        ,  1.161895  ],\n",
       "       [ 0.77459667,  0.38729833,  1.161895  ],\n",
       "       [ 0.77459667,  0.77459667,  1.54919334],\n",
       "       [ 0.77459667,  1.161895  ,  1.54919334],\n",
       "       [ 0.77459667,  1.54919334,  1.54919334],\n",
       "       [ 1.161895  , -1.54919334,  0.77459667],\n",
       "       [ 1.161895  , -1.161895  ,  0.77459667],\n",
       "       [ 1.161895  , -0.77459667,  0.77459667],\n",
       "       [ 1.161895  , -0.38729833,  1.161895  ],\n",
       "       [ 1.161895  ,  0.        ,  1.161895  ],\n",
       "       [ 1.161895  ,  0.38729833,  1.161895  ],\n",
       "       [ 1.161895  ,  0.77459667,  1.54919334],\n",
       "       [ 1.161895  ,  1.161895  ,  1.54919334],\n",
       "       [ 1.161895  ,  1.54919334,  1.54919334],\n",
       "       [ 1.54919334, -1.54919334,  0.77459667],\n",
       "       [ 1.54919334, -1.161895  ,  0.77459667],\n",
       "       [ 1.54919334, -0.77459667,  0.77459667],\n",
       "       [ 1.54919334, -0.38729833,  1.161895  ],\n",
       "       [ 1.54919334,  0.        ,  1.161895  ],\n",
       "       [ 1.54919334,  0.38729833,  1.161895  ],\n",
       "       [ 1.54919334,  0.77459667,  1.54919334],\n",
       "       [ 1.54919334,  1.161895  ,  1.54919334],\n",
       "       [ 1.54919334,  1.54919334,  1.54919334]])"
      ]
     },
     "execution_count": 31,
     "metadata": {},
     "output_type": "execute_result"
    }
   ],
   "source": [
    "scaler_sudoku_df"
   ]
  },
  {
   "cell_type": "markdown",
   "metadata": {},
   "source": [
    "##### Aplicando K-Means"
   ]
  },
  {
   "cell_type": "code",
   "execution_count": 32,
   "metadata": {},
   "outputs": [
    {
     "name": "stderr",
     "output_type": "stream",
     "text": [
      "C:\\Users\\vinic\\AppData\\Local\\Packages\\PythonSoftwareFoundation.Python.3.11_qbz5n2kfra8p0\\LocalCache\\local-packages\\Python311\\site-packages\\sklearn\\cluster\\_kmeans.py:1416: FutureWarning:\n",
      "\n",
      "The default value of `n_init` will change from 10 to 'auto' in 1.4. Set the value of `n_init` explicitly to suppress the warning\n",
      "\n"
     ]
    }
   ],
   "source": [
    "kmeans = KMeans(n_clusters=9, init='k-means++', random_state=0).fit(scaler_sudoku_df)"
   ]
  },
  {
   "cell_type": "markdown",
   "metadata": {},
   "source": [
    "- `KMeans()`: Importamos a classe para usar o KMeans. Ao atribuir a uma variável, estamos instânciando.\n",
    "- `fit(scaler_sudoku_df)`: Treinamos o modelo KMeans usando os dados padronizados no scaler_sudoku_df. Neste caso, o algoritmo tenta encontrar 9 clusters que melhor representem a estrutura dos dados. Os rótulos de cluster resultantes são armazenados em `kmeans.labels_`."
   ]
  },
  {
   "cell_type": "markdown",
   "metadata": {},
   "source": [
    "##### Aplicando Agrupamento Hierárquico"
   ]
  },
  {
   "cell_type": "code",
   "execution_count": 33,
   "metadata": {},
   "outputs": [],
   "source": [
    "hierarquico = AgglomerativeClustering(n_clusters=9).fit(scaler_sudoku_df)"
   ]
  },
  {
   "cell_type": "markdown",
   "metadata": {},
   "source": [
    "- `AgglomerativeClustering()`: Importamos a classe para usar o Agrupamento Hierárquico de dados. Ao atribuir a uma variável, estamos instânciando.\n",
    "- `fit(scaler_sudoku_df)`: Treinamos o modelo usando os dados padronizados no `scaler_sudoku_df`. Neste caso, o algoritmo tenta dividir os dados em 9 clusters e armazenar em `hieraquico`."
   ]
  },
  {
   "cell_type": "markdown",
   "metadata": {},
   "source": [
    "#### Aplicando DBSCAN"
   ]
  },
  {
   "cell_type": "code",
   "execution_count": 34,
   "metadata": {},
   "outputs": [],
   "source": [
    "dbscan = DBSCAN(eps=0.5, min_samples=2).fit(scaler_sudoku_df)"
   ]
  },
  {
   "cell_type": "markdown",
   "metadata": {},
   "source": [
    "- `AgglomerativeClustering()`: Importamos a classe para usar o DBSCAN, um algoritmo de agrupamento baseado em densidade. Não especificamos a quantidade de clusters previamente, pois ele define clusters com base na vizinhança de um registro. Utiliza um raio para percorrer os registros e agrupá-los. Se não houver mais registros dentro do alcance do raio, indica o fim do cluster. \n",
    "\n",
    "- `eps`: Indica o tamanho do raio.\n",
    "- `min_samples`: Indica quantos registros deve ter dentro do raio para continuar.\n"
   ]
  },
  {
   "cell_type": "markdown",
   "metadata": {},
   "source": [
    "#### Resultados"
   ]
  },
  {
   "cell_type": "code",
   "execution_count": 35,
   "metadata": {},
   "outputs": [
    {
     "name": "stderr",
     "output_type": "stream",
     "text": [
      "C:\\Users\\vinic\\AppData\\Local\\Packages\\PythonSoftwareFoundation.Python.3.11_qbz5n2kfra8p0\\LocalCache\\local-packages\\Python311\\site-packages\\sklearn\\cluster\\_kmeans.py:1416: FutureWarning:\n",
      "\n",
      "The default value of `n_init` will change from 10 to 'auto' in 1.4. Set the value of `n_init` explicitly to suppress the warning\n",
      "\n"
     ]
    }
   ],
   "source": [
    "sudoku_df['hierarquico'] = hierarquico.fit_predict(scaler_sudoku_df)\n",
    "\n",
    "sudoku_df['k_means'] = kmeans.fit_predict(scaler_sudoku_df)\n",
    "\n",
    "sudoku_df['dbscan'] = dbscan.fit_predict(scaler_sudoku_df)"
   ]
  },
  {
   "cell_type": "code",
   "execution_count": 36,
   "metadata": {},
   "outputs": [
    {
     "data": {
      "text/html": [
       "<div>\n",
       "<style scoped>\n",
       "    .dataframe tbody tr th:only-of-type {\n",
       "        vertical-align: middle;\n",
       "    }\n",
       "\n",
       "    .dataframe tbody tr th {\n",
       "        vertical-align: top;\n",
       "    }\n",
       "\n",
       "    .dataframe thead th {\n",
       "        text-align: right;\n",
       "    }\n",
       "</style>\n",
       "<table border=\"1\" class=\"dataframe\">\n",
       "  <thead>\n",
       "    <tr style=\"text-align: right;\">\n",
       "      <th></th>\n",
       "      <th>line_v</th>\n",
       "      <th>column_v</th>\n",
       "      <th>quadrant_v</th>\n",
       "      <th>hierarquico</th>\n",
       "      <th>k_means</th>\n",
       "      <th>dbscan</th>\n",
       "    </tr>\n",
       "  </thead>\n",
       "  <tbody>\n",
       "    <tr>\n",
       "      <th>33</th>\n",
       "      <td>4</td>\n",
       "      <td>7</td>\n",
       "      <td>6</td>\n",
       "      <td>4</td>\n",
       "      <td>0</td>\n",
       "      <td>5</td>\n",
       "    </tr>\n",
       "    <tr>\n",
       "      <th>34</th>\n",
       "      <td>4</td>\n",
       "      <td>8</td>\n",
       "      <td>6</td>\n",
       "      <td>4</td>\n",
       "      <td>0</td>\n",
       "      <td>5</td>\n",
       "    </tr>\n",
       "    <tr>\n",
       "      <th>35</th>\n",
       "      <td>4</td>\n",
       "      <td>9</td>\n",
       "      <td>6</td>\n",
       "      <td>4</td>\n",
       "      <td>0</td>\n",
       "      <td>5</td>\n",
       "    </tr>\n",
       "    <tr>\n",
       "      <th>42</th>\n",
       "      <td>5</td>\n",
       "      <td>7</td>\n",
       "      <td>6</td>\n",
       "      <td>4</td>\n",
       "      <td>0</td>\n",
       "      <td>5</td>\n",
       "    </tr>\n",
       "    <tr>\n",
       "      <th>43</th>\n",
       "      <td>5</td>\n",
       "      <td>8</td>\n",
       "      <td>6</td>\n",
       "      <td>4</td>\n",
       "      <td>0</td>\n",
       "      <td>5</td>\n",
       "    </tr>\n",
       "    <tr>\n",
       "      <th>44</th>\n",
       "      <td>5</td>\n",
       "      <td>9</td>\n",
       "      <td>6</td>\n",
       "      <td>4</td>\n",
       "      <td>0</td>\n",
       "      <td>5</td>\n",
       "    </tr>\n",
       "    <tr>\n",
       "      <th>51</th>\n",
       "      <td>6</td>\n",
       "      <td>7</td>\n",
       "      <td>6</td>\n",
       "      <td>4</td>\n",
       "      <td>0</td>\n",
       "      <td>5</td>\n",
       "    </tr>\n",
       "    <tr>\n",
       "      <th>52</th>\n",
       "      <td>6</td>\n",
       "      <td>8</td>\n",
       "      <td>6</td>\n",
       "      <td>4</td>\n",
       "      <td>0</td>\n",
       "      <td>5</td>\n",
       "    </tr>\n",
       "    <tr>\n",
       "      <th>53</th>\n",
       "      <td>6</td>\n",
       "      <td>9</td>\n",
       "      <td>6</td>\n",
       "      <td>4</td>\n",
       "      <td>0</td>\n",
       "      <td>5</td>\n",
       "    </tr>\n",
       "  </tbody>\n",
       "</table>\n",
       "</div>"
      ],
      "text/plain": [
       "    line_v  column_v  quadrant_v  hierarquico  k_means  dbscan\n",
       "33       4         7           6            4        0       5\n",
       "34       4         8           6            4        0       5\n",
       "35       4         9           6            4        0       5\n",
       "42       5         7           6            4        0       5\n",
       "43       5         8           6            4        0       5\n",
       "44       5         9           6            4        0       5\n",
       "51       6         7           6            4        0       5\n",
       "52       6         8           6            4        0       5\n",
       "53       6         9           6            4        0       5"
      ]
     },
     "execution_count": 36,
     "metadata": {},
     "output_type": "execute_result"
    }
   ],
   "source": [
    "sudoku_df[sudoku_df[\"k_means\"] == 0]"
   ]
  },
  {
   "cell_type": "markdown",
   "metadata": {},
   "source": [
    "Note que independente do algoritmo aplicado, o clusters sempre são os quadrantes."
   ]
  },
  {
   "cell_type": "markdown",
   "metadata": {},
   "source": [
    "##### Analisando o indicativo da quantidade de centroi para nossa modelagem"
   ]
  },
  {
   "cell_type": "code",
   "execution_count": 37,
   "metadata": {},
   "outputs": [
    {
     "name": "stderr",
     "output_type": "stream",
     "text": [
      "C:\\Users\\vinic\\AppData\\Local\\Packages\\PythonSoftwareFoundation.Python.3.11_qbz5n2kfra8p0\\LocalCache\\local-packages\\Python311\\site-packages\\sklearn\\cluster\\_kmeans.py:1416: FutureWarning:\n",
      "\n",
      "The default value of `n_init` will change from 10 to 'auto' in 1.4. Set the value of `n_init` explicitly to suppress the warning\n",
      "\n",
      "C:\\Users\\vinic\\AppData\\Local\\Packages\\PythonSoftwareFoundation.Python.3.11_qbz5n2kfra8p0\\LocalCache\\local-packages\\Python311\\site-packages\\sklearn\\cluster\\_kmeans.py:1416: FutureWarning:\n",
      "\n",
      "The default value of `n_init` will change from 10 to 'auto' in 1.4. Set the value of `n_init` explicitly to suppress the warning\n",
      "\n",
      "C:\\Users\\vinic\\AppData\\Local\\Packages\\PythonSoftwareFoundation.Python.3.11_qbz5n2kfra8p0\\LocalCache\\local-packages\\Python311\\site-packages\\sklearn\\cluster\\_kmeans.py:1416: FutureWarning:\n",
      "\n",
      "The default value of `n_init` will change from 10 to 'auto' in 1.4. Set the value of `n_init` explicitly to suppress the warning\n",
      "\n",
      "C:\\Users\\vinic\\AppData\\Local\\Packages\\PythonSoftwareFoundation.Python.3.11_qbz5n2kfra8p0\\LocalCache\\local-packages\\Python311\\site-packages\\sklearn\\cluster\\_kmeans.py:1416: FutureWarning:\n",
      "\n",
      "The default value of `n_init` will change from 10 to 'auto' in 1.4. Set the value of `n_init` explicitly to suppress the warning\n",
      "\n",
      "C:\\Users\\vinic\\AppData\\Local\\Packages\\PythonSoftwareFoundation.Python.3.11_qbz5n2kfra8p0\\LocalCache\\local-packages\\Python311\\site-packages\\sklearn\\cluster\\_kmeans.py:1416: FutureWarning:\n",
      "\n",
      "The default value of `n_init` will change from 10 to 'auto' in 1.4. Set the value of `n_init` explicitly to suppress the warning\n",
      "\n",
      "C:\\Users\\vinic\\AppData\\Local\\Packages\\PythonSoftwareFoundation.Python.3.11_qbz5n2kfra8p0\\LocalCache\\local-packages\\Python311\\site-packages\\sklearn\\cluster\\_kmeans.py:1416: FutureWarning:\n",
      "\n",
      "The default value of `n_init` will change from 10 to 'auto' in 1.4. Set the value of `n_init` explicitly to suppress the warning\n",
      "\n",
      "C:\\Users\\vinic\\AppData\\Local\\Packages\\PythonSoftwareFoundation.Python.3.11_qbz5n2kfra8p0\\LocalCache\\local-packages\\Python311\\site-packages\\sklearn\\cluster\\_kmeans.py:1416: FutureWarning:\n",
      "\n",
      "The default value of `n_init` will change from 10 to 'auto' in 1.4. Set the value of `n_init` explicitly to suppress the warning\n",
      "\n",
      "C:\\Users\\vinic\\AppData\\Local\\Packages\\PythonSoftwareFoundation.Python.3.11_qbz5n2kfra8p0\\LocalCache\\local-packages\\Python311\\site-packages\\sklearn\\cluster\\_kmeans.py:1416: FutureWarning:\n",
      "\n",
      "The default value of `n_init` will change from 10 to 'auto' in 1.4. Set the value of `n_init` explicitly to suppress the warning\n",
      "\n",
      "C:\\Users\\vinic\\AppData\\Local\\Packages\\PythonSoftwareFoundation.Python.3.11_qbz5n2kfra8p0\\LocalCache\\local-packages\\Python311\\site-packages\\sklearn\\cluster\\_kmeans.py:1416: FutureWarning:\n",
      "\n",
      "The default value of `n_init` will change from 10 to 'auto' in 1.4. Set the value of `n_init` explicitly to suppress the warning\n",
      "\n",
      "C:\\Users\\vinic\\AppData\\Local\\Packages\\PythonSoftwareFoundation.Python.3.11_qbz5n2kfra8p0\\LocalCache\\local-packages\\Python311\\site-packages\\sklearn\\cluster\\_kmeans.py:1416: FutureWarning:\n",
      "\n",
      "The default value of `n_init` will change from 10 to 'auto' in 1.4. Set the value of `n_init` explicitly to suppress the warning\n",
      "\n",
      "C:\\Users\\vinic\\AppData\\Local\\Packages\\PythonSoftwareFoundation.Python.3.11_qbz5n2kfra8p0\\LocalCache\\local-packages\\Python311\\site-packages\\sklearn\\cluster\\_kmeans.py:1416: FutureWarning:\n",
      "\n",
      "The default value of `n_init` will change from 10 to 'auto' in 1.4. Set the value of `n_init` explicitly to suppress the warning\n",
      "\n",
      "C:\\Users\\vinic\\AppData\\Local\\Packages\\PythonSoftwareFoundation.Python.3.11_qbz5n2kfra8p0\\LocalCache\\local-packages\\Python311\\site-packages\\sklearn\\cluster\\_kmeans.py:1416: FutureWarning:\n",
      "\n",
      "The default value of `n_init` will change from 10 to 'auto' in 1.4. Set the value of `n_init` explicitly to suppress the warning\n",
      "\n",
      "C:\\Users\\vinic\\AppData\\Local\\Packages\\PythonSoftwareFoundation.Python.3.11_qbz5n2kfra8p0\\LocalCache\\local-packages\\Python311\\site-packages\\sklearn\\cluster\\_kmeans.py:1416: FutureWarning:\n",
      "\n",
      "The default value of `n_init` will change from 10 to 'auto' in 1.4. Set the value of `n_init` explicitly to suppress the warning\n",
      "\n"
     ]
    }
   ],
   "source": [
    "wcss = []\n",
    "\n",
    "for i in range(1, 14):\n",
    "    kmeans = KMeans(n_clusters=i, random_state=0)\n",
    "    kmeans.fit(scaler_sudoku_df)\n",
    "    wcss.append(kmeans.inertia_)"
   ]
  },
  {
   "cell_type": "code",
   "execution_count": 38,
   "metadata": {},
   "outputs": [
    {
     "data": {
      "application/vnd.plotly.v1+json": {
       "config": {
        "plotlyServerURL": "https://plot.ly"
       },
       "data": [
        {
         "hovertemplate": "x=%{x}<br>y=%{y}<extra></extra>",
         "legendgroup": "",
         "line": {
          "color": "#636efa",
          "dash": "solid"
         },
         "marker": {
          "symbol": "circle"
         },
         "mode": "lines",
         "name": "",
         "orientation": "v",
         "showlegend": false,
         "type": "scatter",
         "x": [
          1,
          2,
          3,
          4,
          5,
          6,
          7,
          8,
          9,
          10,
          11,
          12,
          13
         ],
         "xaxis": "x",
         "y": [
          243,
          124.90792682926829,
          87.70086206896552,
          61.219565217391306,
          45.77464285714285,
          30.9825,
          26.055000000000007,
          21.127500000000005,
          16.200000000000003,
          15.299999999999999,
          14.399999999999999,
          13.725000000000001,
          13.147857142857141
         ],
         "yaxis": "y"
        }
       ],
       "layout": {
        "legend": {
         "tracegroupgap": 0
        },
        "margin": {
         "t": 60
        },
        "template": {
         "data": {
          "bar": [
           {
            "error_x": {
             "color": "#2a3f5f"
            },
            "error_y": {
             "color": "#2a3f5f"
            },
            "marker": {
             "line": {
              "color": "#E5ECF6",
              "width": 0.5
             },
             "pattern": {
              "fillmode": "overlay",
              "size": 10,
              "solidity": 0.2
             }
            },
            "type": "bar"
           }
          ],
          "barpolar": [
           {
            "marker": {
             "line": {
              "color": "#E5ECF6",
              "width": 0.5
             },
             "pattern": {
              "fillmode": "overlay",
              "size": 10,
              "solidity": 0.2
             }
            },
            "type": "barpolar"
           }
          ],
          "carpet": [
           {
            "aaxis": {
             "endlinecolor": "#2a3f5f",
             "gridcolor": "white",
             "linecolor": "white",
             "minorgridcolor": "white",
             "startlinecolor": "#2a3f5f"
            },
            "baxis": {
             "endlinecolor": "#2a3f5f",
             "gridcolor": "white",
             "linecolor": "white",
             "minorgridcolor": "white",
             "startlinecolor": "#2a3f5f"
            },
            "type": "carpet"
           }
          ],
          "choropleth": [
           {
            "colorbar": {
             "outlinewidth": 0,
             "ticks": ""
            },
            "type": "choropleth"
           }
          ],
          "contour": [
           {
            "colorbar": {
             "outlinewidth": 0,
             "ticks": ""
            },
            "colorscale": [
             [
              0,
              "#0d0887"
             ],
             [
              0.1111111111111111,
              "#46039f"
             ],
             [
              0.2222222222222222,
              "#7201a8"
             ],
             [
              0.3333333333333333,
              "#9c179e"
             ],
             [
              0.4444444444444444,
              "#bd3786"
             ],
             [
              0.5555555555555556,
              "#d8576b"
             ],
             [
              0.6666666666666666,
              "#ed7953"
             ],
             [
              0.7777777777777778,
              "#fb9f3a"
             ],
             [
              0.8888888888888888,
              "#fdca26"
             ],
             [
              1,
              "#f0f921"
             ]
            ],
            "type": "contour"
           }
          ],
          "contourcarpet": [
           {
            "colorbar": {
             "outlinewidth": 0,
             "ticks": ""
            },
            "type": "contourcarpet"
           }
          ],
          "heatmap": [
           {
            "colorbar": {
             "outlinewidth": 0,
             "ticks": ""
            },
            "colorscale": [
             [
              0,
              "#0d0887"
             ],
             [
              0.1111111111111111,
              "#46039f"
             ],
             [
              0.2222222222222222,
              "#7201a8"
             ],
             [
              0.3333333333333333,
              "#9c179e"
             ],
             [
              0.4444444444444444,
              "#bd3786"
             ],
             [
              0.5555555555555556,
              "#d8576b"
             ],
             [
              0.6666666666666666,
              "#ed7953"
             ],
             [
              0.7777777777777778,
              "#fb9f3a"
             ],
             [
              0.8888888888888888,
              "#fdca26"
             ],
             [
              1,
              "#f0f921"
             ]
            ],
            "type": "heatmap"
           }
          ],
          "heatmapgl": [
           {
            "colorbar": {
             "outlinewidth": 0,
             "ticks": ""
            },
            "colorscale": [
             [
              0,
              "#0d0887"
             ],
             [
              0.1111111111111111,
              "#46039f"
             ],
             [
              0.2222222222222222,
              "#7201a8"
             ],
             [
              0.3333333333333333,
              "#9c179e"
             ],
             [
              0.4444444444444444,
              "#bd3786"
             ],
             [
              0.5555555555555556,
              "#d8576b"
             ],
             [
              0.6666666666666666,
              "#ed7953"
             ],
             [
              0.7777777777777778,
              "#fb9f3a"
             ],
             [
              0.8888888888888888,
              "#fdca26"
             ],
             [
              1,
              "#f0f921"
             ]
            ],
            "type": "heatmapgl"
           }
          ],
          "histogram": [
           {
            "marker": {
             "pattern": {
              "fillmode": "overlay",
              "size": 10,
              "solidity": 0.2
             }
            },
            "type": "histogram"
           }
          ],
          "histogram2d": [
           {
            "colorbar": {
             "outlinewidth": 0,
             "ticks": ""
            },
            "colorscale": [
             [
              0,
              "#0d0887"
             ],
             [
              0.1111111111111111,
              "#46039f"
             ],
             [
              0.2222222222222222,
              "#7201a8"
             ],
             [
              0.3333333333333333,
              "#9c179e"
             ],
             [
              0.4444444444444444,
              "#bd3786"
             ],
             [
              0.5555555555555556,
              "#d8576b"
             ],
             [
              0.6666666666666666,
              "#ed7953"
             ],
             [
              0.7777777777777778,
              "#fb9f3a"
             ],
             [
              0.8888888888888888,
              "#fdca26"
             ],
             [
              1,
              "#f0f921"
             ]
            ],
            "type": "histogram2d"
           }
          ],
          "histogram2dcontour": [
           {
            "colorbar": {
             "outlinewidth": 0,
             "ticks": ""
            },
            "colorscale": [
             [
              0,
              "#0d0887"
             ],
             [
              0.1111111111111111,
              "#46039f"
             ],
             [
              0.2222222222222222,
              "#7201a8"
             ],
             [
              0.3333333333333333,
              "#9c179e"
             ],
             [
              0.4444444444444444,
              "#bd3786"
             ],
             [
              0.5555555555555556,
              "#d8576b"
             ],
             [
              0.6666666666666666,
              "#ed7953"
             ],
             [
              0.7777777777777778,
              "#fb9f3a"
             ],
             [
              0.8888888888888888,
              "#fdca26"
             ],
             [
              1,
              "#f0f921"
             ]
            ],
            "type": "histogram2dcontour"
           }
          ],
          "mesh3d": [
           {
            "colorbar": {
             "outlinewidth": 0,
             "ticks": ""
            },
            "type": "mesh3d"
           }
          ],
          "parcoords": [
           {
            "line": {
             "colorbar": {
              "outlinewidth": 0,
              "ticks": ""
             }
            },
            "type": "parcoords"
           }
          ],
          "pie": [
           {
            "automargin": true,
            "type": "pie"
           }
          ],
          "scatter": [
           {
            "fillpattern": {
             "fillmode": "overlay",
             "size": 10,
             "solidity": 0.2
            },
            "type": "scatter"
           }
          ],
          "scatter3d": [
           {
            "line": {
             "colorbar": {
              "outlinewidth": 0,
              "ticks": ""
             }
            },
            "marker": {
             "colorbar": {
              "outlinewidth": 0,
              "ticks": ""
             }
            },
            "type": "scatter3d"
           }
          ],
          "scattercarpet": [
           {
            "marker": {
             "colorbar": {
              "outlinewidth": 0,
              "ticks": ""
             }
            },
            "type": "scattercarpet"
           }
          ],
          "scattergeo": [
           {
            "marker": {
             "colorbar": {
              "outlinewidth": 0,
              "ticks": ""
             }
            },
            "type": "scattergeo"
           }
          ],
          "scattergl": [
           {
            "marker": {
             "colorbar": {
              "outlinewidth": 0,
              "ticks": ""
             }
            },
            "type": "scattergl"
           }
          ],
          "scattermapbox": [
           {
            "marker": {
             "colorbar": {
              "outlinewidth": 0,
              "ticks": ""
             }
            },
            "type": "scattermapbox"
           }
          ],
          "scatterpolar": [
           {
            "marker": {
             "colorbar": {
              "outlinewidth": 0,
              "ticks": ""
             }
            },
            "type": "scatterpolar"
           }
          ],
          "scatterpolargl": [
           {
            "marker": {
             "colorbar": {
              "outlinewidth": 0,
              "ticks": ""
             }
            },
            "type": "scatterpolargl"
           }
          ],
          "scatterternary": [
           {
            "marker": {
             "colorbar": {
              "outlinewidth": 0,
              "ticks": ""
             }
            },
            "type": "scatterternary"
           }
          ],
          "surface": [
           {
            "colorbar": {
             "outlinewidth": 0,
             "ticks": ""
            },
            "colorscale": [
             [
              0,
              "#0d0887"
             ],
             [
              0.1111111111111111,
              "#46039f"
             ],
             [
              0.2222222222222222,
              "#7201a8"
             ],
             [
              0.3333333333333333,
              "#9c179e"
             ],
             [
              0.4444444444444444,
              "#bd3786"
             ],
             [
              0.5555555555555556,
              "#d8576b"
             ],
             [
              0.6666666666666666,
              "#ed7953"
             ],
             [
              0.7777777777777778,
              "#fb9f3a"
             ],
             [
              0.8888888888888888,
              "#fdca26"
             ],
             [
              1,
              "#f0f921"
             ]
            ],
            "type": "surface"
           }
          ],
          "table": [
           {
            "cells": {
             "fill": {
              "color": "#EBF0F8"
             },
             "line": {
              "color": "white"
             }
            },
            "header": {
             "fill": {
              "color": "#C8D4E3"
             },
             "line": {
              "color": "white"
             }
            },
            "type": "table"
           }
          ]
         },
         "layout": {
          "annotationdefaults": {
           "arrowcolor": "#2a3f5f",
           "arrowhead": 0,
           "arrowwidth": 1
          },
          "autotypenumbers": "strict",
          "coloraxis": {
           "colorbar": {
            "outlinewidth": 0,
            "ticks": ""
           }
          },
          "colorscale": {
           "diverging": [
            [
             0,
             "#8e0152"
            ],
            [
             0.1,
             "#c51b7d"
            ],
            [
             0.2,
             "#de77ae"
            ],
            [
             0.3,
             "#f1b6da"
            ],
            [
             0.4,
             "#fde0ef"
            ],
            [
             0.5,
             "#f7f7f7"
            ],
            [
             0.6,
             "#e6f5d0"
            ],
            [
             0.7,
             "#b8e186"
            ],
            [
             0.8,
             "#7fbc41"
            ],
            [
             0.9,
             "#4d9221"
            ],
            [
             1,
             "#276419"
            ]
           ],
           "sequential": [
            [
             0,
             "#0d0887"
            ],
            [
             0.1111111111111111,
             "#46039f"
            ],
            [
             0.2222222222222222,
             "#7201a8"
            ],
            [
             0.3333333333333333,
             "#9c179e"
            ],
            [
             0.4444444444444444,
             "#bd3786"
            ],
            [
             0.5555555555555556,
             "#d8576b"
            ],
            [
             0.6666666666666666,
             "#ed7953"
            ],
            [
             0.7777777777777778,
             "#fb9f3a"
            ],
            [
             0.8888888888888888,
             "#fdca26"
            ],
            [
             1,
             "#f0f921"
            ]
           ],
           "sequentialminus": [
            [
             0,
             "#0d0887"
            ],
            [
             0.1111111111111111,
             "#46039f"
            ],
            [
             0.2222222222222222,
             "#7201a8"
            ],
            [
             0.3333333333333333,
             "#9c179e"
            ],
            [
             0.4444444444444444,
             "#bd3786"
            ],
            [
             0.5555555555555556,
             "#d8576b"
            ],
            [
             0.6666666666666666,
             "#ed7953"
            ],
            [
             0.7777777777777778,
             "#fb9f3a"
            ],
            [
             0.8888888888888888,
             "#fdca26"
            ],
            [
             1,
             "#f0f921"
            ]
           ]
          },
          "colorway": [
           "#636efa",
           "#EF553B",
           "#00cc96",
           "#ab63fa",
           "#FFA15A",
           "#19d3f3",
           "#FF6692",
           "#B6E880",
           "#FF97FF",
           "#FECB52"
          ],
          "font": {
           "color": "#2a3f5f"
          },
          "geo": {
           "bgcolor": "white",
           "lakecolor": "white",
           "landcolor": "#E5ECF6",
           "showlakes": true,
           "showland": true,
           "subunitcolor": "white"
          },
          "hoverlabel": {
           "align": "left"
          },
          "hovermode": "closest",
          "mapbox": {
           "style": "light"
          },
          "paper_bgcolor": "white",
          "plot_bgcolor": "#E5ECF6",
          "polar": {
           "angularaxis": {
            "gridcolor": "white",
            "linecolor": "white",
            "ticks": ""
           },
           "bgcolor": "#E5ECF6",
           "radialaxis": {
            "gridcolor": "white",
            "linecolor": "white",
            "ticks": ""
           }
          },
          "scene": {
           "xaxis": {
            "backgroundcolor": "#E5ECF6",
            "gridcolor": "white",
            "gridwidth": 2,
            "linecolor": "white",
            "showbackground": true,
            "ticks": "",
            "zerolinecolor": "white"
           },
           "yaxis": {
            "backgroundcolor": "#E5ECF6",
            "gridcolor": "white",
            "gridwidth": 2,
            "linecolor": "white",
            "showbackground": true,
            "ticks": "",
            "zerolinecolor": "white"
           },
           "zaxis": {
            "backgroundcolor": "#E5ECF6",
            "gridcolor": "white",
            "gridwidth": 2,
            "linecolor": "white",
            "showbackground": true,
            "ticks": "",
            "zerolinecolor": "white"
           }
          },
          "shapedefaults": {
           "line": {
            "color": "#2a3f5f"
           }
          },
          "ternary": {
           "aaxis": {
            "gridcolor": "white",
            "linecolor": "white",
            "ticks": ""
           },
           "baxis": {
            "gridcolor": "white",
            "linecolor": "white",
            "ticks": ""
           },
           "bgcolor": "#E5ECF6",
           "caxis": {
            "gridcolor": "white",
            "linecolor": "white",
            "ticks": ""
           }
          },
          "title": {
           "x": 0.05
          },
          "xaxis": {
           "automargin": true,
           "gridcolor": "white",
           "linecolor": "white",
           "ticks": "",
           "title": {
            "standoff": 15
           },
           "zerolinecolor": "white",
           "zerolinewidth": 2
          },
          "yaxis": {
           "automargin": true,
           "gridcolor": "white",
           "linecolor": "white",
           "ticks": "",
           "title": {
            "standoff": 15
           },
           "zerolinecolor": "white",
           "zerolinewidth": 2
          }
         }
        },
        "xaxis": {
         "anchor": "y",
         "domain": [
          0,
          1
         ],
         "title": {
          "text": "x"
         }
        },
        "yaxis": {
         "anchor": "x",
         "domain": [
          0,
          1
         ],
         "title": {
          "text": "y"
         }
        }
       }
      }
     },
     "metadata": {},
     "output_type": "display_data"
    }
   ],
   "source": [
    "grafico = px.line(x=range(1, 14), y=wcss)\n",
    "grafico.show()"
   ]
  },
  {
   "cell_type": "markdown",
   "metadata": {},
   "source": [
    "Note que a quantidade do Y para 8 clusters é 21. Para 9 clusters, ela diminui para 16, e para 10 clusters, cai para 15. Como a quantidade que caiu do Y de 9 para 10 foi pouca, isso indica que a quantidade ideal de cluster é 9! Assim, a modelagem do dataframe está progredindo bem, visto que nosso objetivo é exatamente 9 clusters."
   ]
  },
  {
   "cell_type": "markdown",
   "metadata": {},
   "source": [
    "#### 2º Abordagem: criar o DataFrame a partir das arestas do grafo"
   ]
  },
  {
   "cell_type": "code",
   "execution_count": 39,
   "metadata": {},
   "outputs": [],
   "source": [
    "# Obtendo as arestas do grafo\n",
    "list_aresta = [(vertice, aresta) for vertice, aresta in grafo.edges]\n",
    "\n",
    "# Criando um DataFrame a partir das arestas do grafo\n",
    "df_aresta = pd.DataFrame(list_aresta, columns=['vertice', 'vertice_adj'])"
   ]
  },
  {
   "cell_type": "code",
   "execution_count": 40,
   "metadata": {},
   "outputs": [
    {
     "data": {
      "text/html": [
       "<div>\n",
       "<style scoped>\n",
       "    .dataframe tbody tr th:only-of-type {\n",
       "        vertical-align: middle;\n",
       "    }\n",
       "\n",
       "    .dataframe tbody tr th {\n",
       "        vertical-align: top;\n",
       "    }\n",
       "\n",
       "    .dataframe thead th {\n",
       "        text-align: right;\n",
       "    }\n",
       "</style>\n",
       "<table border=\"1\" class=\"dataframe\">\n",
       "  <thead>\n",
       "    <tr style=\"text-align: right;\">\n",
       "      <th></th>\n",
       "      <th>vertice</th>\n",
       "      <th>vertice_adj</th>\n",
       "    </tr>\n",
       "  </thead>\n",
       "  <tbody>\n",
       "    <tr>\n",
       "      <th>0</th>\n",
       "      <td>111</td>\n",
       "      <td>121</td>\n",
       "    </tr>\n",
       "    <tr>\n",
       "      <th>1</th>\n",
       "      <td>111</td>\n",
       "      <td>131</td>\n",
       "    </tr>\n",
       "    <tr>\n",
       "      <th>2</th>\n",
       "      <td>111</td>\n",
       "      <td>142</td>\n",
       "    </tr>\n",
       "    <tr>\n",
       "      <th>3</th>\n",
       "      <td>111</td>\n",
       "      <td>152</td>\n",
       "    </tr>\n",
       "    <tr>\n",
       "      <th>4</th>\n",
       "      <td>111</td>\n",
       "      <td>162</td>\n",
       "    </tr>\n",
       "  </tbody>\n",
       "</table>\n",
       "</div>"
      ],
      "text/plain": [
       "   vertice  vertice_adj\n",
       "0      111          121\n",
       "1      111          131\n",
       "2      111          142\n",
       "3      111          152\n",
       "4      111          162"
      ]
     },
     "execution_count": 40,
     "metadata": {},
     "output_type": "execute_result"
    }
   ],
   "source": [
    "df_aresta.head()"
   ]
  },
  {
   "cell_type": "markdown",
   "metadata": {},
   "source": [
    "#### 3º Abordagem: criar o DataFame a partir da Matriz de Adjacência do grafo complementar (Teste)."
   ]
  },
  {
   "cell_type": "code",
   "execution_count": 41,
   "metadata": {},
   "outputs": [],
   "source": [
    "grafo_complementar = nx.complement(grafo)\n",
    "\n",
    "# Obtendo a matriz de adjacência como um array numpy\n",
    "matriz_adj = nx.to_numpy_array(grafo_complementar)\n",
    "\n",
    "# Criando uma Base de dados a partir de um grafo (neste caso, um grafo complementar)\n",
    "df_matriz = pd.DataFrame(matriz_adj, columns=grafo_complementar.nodes, index=grafo_complementar.nodes)"
   ]
  },
  {
   "cell_type": "code",
   "execution_count": 42,
   "metadata": {},
   "outputs": [
    {
     "data": {
      "text/html": [
       "<div>\n",
       "<style scoped>\n",
       "    .dataframe tbody tr th:only-of-type {\n",
       "        vertical-align: middle;\n",
       "    }\n",
       "\n",
       "    .dataframe tbody tr th {\n",
       "        vertical-align: top;\n",
       "    }\n",
       "\n",
       "    .dataframe thead th {\n",
       "        text-align: right;\n",
       "    }\n",
       "</style>\n",
       "<table border=\"1\" class=\"dataframe\">\n",
       "  <thead>\n",
       "    <tr style=\"text-align: right;\">\n",
       "      <th></th>\n",
       "      <th>111</th>\n",
       "      <th>121</th>\n",
       "      <th>131</th>\n",
       "      <th>142</th>\n",
       "      <th>152</th>\n",
       "      <th>162</th>\n",
       "      <th>173</th>\n",
       "      <th>183</th>\n",
       "      <th>193</th>\n",
       "      <th>211</th>\n",
       "      <th>...</th>\n",
       "      <th>899</th>\n",
       "      <th>917</th>\n",
       "      <th>927</th>\n",
       "      <th>937</th>\n",
       "      <th>948</th>\n",
       "      <th>958</th>\n",
       "      <th>968</th>\n",
       "      <th>979</th>\n",
       "      <th>989</th>\n",
       "      <th>999</th>\n",
       "    </tr>\n",
       "  </thead>\n",
       "  <tbody>\n",
       "    <tr>\n",
       "      <th>111</th>\n",
       "      <td>0.0</td>\n",
       "      <td>0.0</td>\n",
       "      <td>0.0</td>\n",
       "      <td>0.0</td>\n",
       "      <td>0.0</td>\n",
       "      <td>0.0</td>\n",
       "      <td>0.0</td>\n",
       "      <td>0.0</td>\n",
       "      <td>0.0</td>\n",
       "      <td>0.0</td>\n",
       "      <td>...</td>\n",
       "      <td>1.0</td>\n",
       "      <td>0.0</td>\n",
       "      <td>1.0</td>\n",
       "      <td>1.0</td>\n",
       "      <td>1.0</td>\n",
       "      <td>1.0</td>\n",
       "      <td>1.0</td>\n",
       "      <td>1.0</td>\n",
       "      <td>1.0</td>\n",
       "      <td>1.0</td>\n",
       "    </tr>\n",
       "    <tr>\n",
       "      <th>121</th>\n",
       "      <td>0.0</td>\n",
       "      <td>0.0</td>\n",
       "      <td>0.0</td>\n",
       "      <td>0.0</td>\n",
       "      <td>0.0</td>\n",
       "      <td>0.0</td>\n",
       "      <td>0.0</td>\n",
       "      <td>0.0</td>\n",
       "      <td>0.0</td>\n",
       "      <td>0.0</td>\n",
       "      <td>...</td>\n",
       "      <td>1.0</td>\n",
       "      <td>1.0</td>\n",
       "      <td>0.0</td>\n",
       "      <td>1.0</td>\n",
       "      <td>1.0</td>\n",
       "      <td>1.0</td>\n",
       "      <td>1.0</td>\n",
       "      <td>1.0</td>\n",
       "      <td>1.0</td>\n",
       "      <td>1.0</td>\n",
       "    </tr>\n",
       "    <tr>\n",
       "      <th>131</th>\n",
       "      <td>0.0</td>\n",
       "      <td>0.0</td>\n",
       "      <td>0.0</td>\n",
       "      <td>0.0</td>\n",
       "      <td>0.0</td>\n",
       "      <td>0.0</td>\n",
       "      <td>0.0</td>\n",
       "      <td>0.0</td>\n",
       "      <td>0.0</td>\n",
       "      <td>0.0</td>\n",
       "      <td>...</td>\n",
       "      <td>1.0</td>\n",
       "      <td>1.0</td>\n",
       "      <td>1.0</td>\n",
       "      <td>0.0</td>\n",
       "      <td>1.0</td>\n",
       "      <td>1.0</td>\n",
       "      <td>1.0</td>\n",
       "      <td>1.0</td>\n",
       "      <td>1.0</td>\n",
       "      <td>1.0</td>\n",
       "    </tr>\n",
       "    <tr>\n",
       "      <th>142</th>\n",
       "      <td>0.0</td>\n",
       "      <td>0.0</td>\n",
       "      <td>0.0</td>\n",
       "      <td>0.0</td>\n",
       "      <td>0.0</td>\n",
       "      <td>0.0</td>\n",
       "      <td>0.0</td>\n",
       "      <td>0.0</td>\n",
       "      <td>0.0</td>\n",
       "      <td>1.0</td>\n",
       "      <td>...</td>\n",
       "      <td>1.0</td>\n",
       "      <td>1.0</td>\n",
       "      <td>1.0</td>\n",
       "      <td>1.0</td>\n",
       "      <td>0.0</td>\n",
       "      <td>1.0</td>\n",
       "      <td>1.0</td>\n",
       "      <td>1.0</td>\n",
       "      <td>1.0</td>\n",
       "      <td>1.0</td>\n",
       "    </tr>\n",
       "    <tr>\n",
       "      <th>152</th>\n",
       "      <td>0.0</td>\n",
       "      <td>0.0</td>\n",
       "      <td>0.0</td>\n",
       "      <td>0.0</td>\n",
       "      <td>0.0</td>\n",
       "      <td>0.0</td>\n",
       "      <td>0.0</td>\n",
       "      <td>0.0</td>\n",
       "      <td>0.0</td>\n",
       "      <td>1.0</td>\n",
       "      <td>...</td>\n",
       "      <td>1.0</td>\n",
       "      <td>1.0</td>\n",
       "      <td>1.0</td>\n",
       "      <td>1.0</td>\n",
       "      <td>1.0</td>\n",
       "      <td>0.0</td>\n",
       "      <td>1.0</td>\n",
       "      <td>1.0</td>\n",
       "      <td>1.0</td>\n",
       "      <td>1.0</td>\n",
       "    </tr>\n",
       "    <tr>\n",
       "      <th>...</th>\n",
       "      <td>...</td>\n",
       "      <td>...</td>\n",
       "      <td>...</td>\n",
       "      <td>...</td>\n",
       "      <td>...</td>\n",
       "      <td>...</td>\n",
       "      <td>...</td>\n",
       "      <td>...</td>\n",
       "      <td>...</td>\n",
       "      <td>...</td>\n",
       "      <td>...</td>\n",
       "      <td>...</td>\n",
       "      <td>...</td>\n",
       "      <td>...</td>\n",
       "      <td>...</td>\n",
       "      <td>...</td>\n",
       "      <td>...</td>\n",
       "      <td>...</td>\n",
       "      <td>...</td>\n",
       "      <td>...</td>\n",
       "      <td>...</td>\n",
       "    </tr>\n",
       "    <tr>\n",
       "      <th>958</th>\n",
       "      <td>1.0</td>\n",
       "      <td>1.0</td>\n",
       "      <td>1.0</td>\n",
       "      <td>1.0</td>\n",
       "      <td>0.0</td>\n",
       "      <td>1.0</td>\n",
       "      <td>1.0</td>\n",
       "      <td>1.0</td>\n",
       "      <td>1.0</td>\n",
       "      <td>1.0</td>\n",
       "      <td>...</td>\n",
       "      <td>1.0</td>\n",
       "      <td>0.0</td>\n",
       "      <td>0.0</td>\n",
       "      <td>0.0</td>\n",
       "      <td>0.0</td>\n",
       "      <td>0.0</td>\n",
       "      <td>0.0</td>\n",
       "      <td>0.0</td>\n",
       "      <td>0.0</td>\n",
       "      <td>0.0</td>\n",
       "    </tr>\n",
       "    <tr>\n",
       "      <th>968</th>\n",
       "      <td>1.0</td>\n",
       "      <td>1.0</td>\n",
       "      <td>1.0</td>\n",
       "      <td>1.0</td>\n",
       "      <td>1.0</td>\n",
       "      <td>0.0</td>\n",
       "      <td>1.0</td>\n",
       "      <td>1.0</td>\n",
       "      <td>1.0</td>\n",
       "      <td>1.0</td>\n",
       "      <td>...</td>\n",
       "      <td>1.0</td>\n",
       "      <td>0.0</td>\n",
       "      <td>0.0</td>\n",
       "      <td>0.0</td>\n",
       "      <td>0.0</td>\n",
       "      <td>0.0</td>\n",
       "      <td>0.0</td>\n",
       "      <td>0.0</td>\n",
       "      <td>0.0</td>\n",
       "      <td>0.0</td>\n",
       "    </tr>\n",
       "    <tr>\n",
       "      <th>979</th>\n",
       "      <td>1.0</td>\n",
       "      <td>1.0</td>\n",
       "      <td>1.0</td>\n",
       "      <td>1.0</td>\n",
       "      <td>1.0</td>\n",
       "      <td>1.0</td>\n",
       "      <td>0.0</td>\n",
       "      <td>1.0</td>\n",
       "      <td>1.0</td>\n",
       "      <td>1.0</td>\n",
       "      <td>...</td>\n",
       "      <td>0.0</td>\n",
       "      <td>0.0</td>\n",
       "      <td>0.0</td>\n",
       "      <td>0.0</td>\n",
       "      <td>0.0</td>\n",
       "      <td>0.0</td>\n",
       "      <td>0.0</td>\n",
       "      <td>0.0</td>\n",
       "      <td>0.0</td>\n",
       "      <td>0.0</td>\n",
       "    </tr>\n",
       "    <tr>\n",
       "      <th>989</th>\n",
       "      <td>1.0</td>\n",
       "      <td>1.0</td>\n",
       "      <td>1.0</td>\n",
       "      <td>1.0</td>\n",
       "      <td>1.0</td>\n",
       "      <td>1.0</td>\n",
       "      <td>1.0</td>\n",
       "      <td>0.0</td>\n",
       "      <td>1.0</td>\n",
       "      <td>1.0</td>\n",
       "      <td>...</td>\n",
       "      <td>0.0</td>\n",
       "      <td>0.0</td>\n",
       "      <td>0.0</td>\n",
       "      <td>0.0</td>\n",
       "      <td>0.0</td>\n",
       "      <td>0.0</td>\n",
       "      <td>0.0</td>\n",
       "      <td>0.0</td>\n",
       "      <td>0.0</td>\n",
       "      <td>0.0</td>\n",
       "    </tr>\n",
       "    <tr>\n",
       "      <th>999</th>\n",
       "      <td>1.0</td>\n",
       "      <td>1.0</td>\n",
       "      <td>1.0</td>\n",
       "      <td>1.0</td>\n",
       "      <td>1.0</td>\n",
       "      <td>1.0</td>\n",
       "      <td>1.0</td>\n",
       "      <td>1.0</td>\n",
       "      <td>0.0</td>\n",
       "      <td>1.0</td>\n",
       "      <td>...</td>\n",
       "      <td>0.0</td>\n",
       "      <td>0.0</td>\n",
       "      <td>0.0</td>\n",
       "      <td>0.0</td>\n",
       "      <td>0.0</td>\n",
       "      <td>0.0</td>\n",
       "      <td>0.0</td>\n",
       "      <td>0.0</td>\n",
       "      <td>0.0</td>\n",
       "      <td>0.0</td>\n",
       "    </tr>\n",
       "  </tbody>\n",
       "</table>\n",
       "<p>81 rows × 81 columns</p>\n",
       "</div>"
      ],
      "text/plain": [
       "     111  121  131  142  152  162  173  183  193  211  ...  899  917  927  \\\n",
       "111  0.0  0.0  0.0  0.0  0.0  0.0  0.0  0.0  0.0  0.0  ...  1.0  0.0  1.0   \n",
       "121  0.0  0.0  0.0  0.0  0.0  0.0  0.0  0.0  0.0  0.0  ...  1.0  1.0  0.0   \n",
       "131  0.0  0.0  0.0  0.0  0.0  0.0  0.0  0.0  0.0  0.0  ...  1.0  1.0  1.0   \n",
       "142  0.0  0.0  0.0  0.0  0.0  0.0  0.0  0.0  0.0  1.0  ...  1.0  1.0  1.0   \n",
       "152  0.0  0.0  0.0  0.0  0.0  0.0  0.0  0.0  0.0  1.0  ...  1.0  1.0  1.0   \n",
       "..   ...  ...  ...  ...  ...  ...  ...  ...  ...  ...  ...  ...  ...  ...   \n",
       "958  1.0  1.0  1.0  1.0  0.0  1.0  1.0  1.0  1.0  1.0  ...  1.0  0.0  0.0   \n",
       "968  1.0  1.0  1.0  1.0  1.0  0.0  1.0  1.0  1.0  1.0  ...  1.0  0.0  0.0   \n",
       "979  1.0  1.0  1.0  1.0  1.0  1.0  0.0  1.0  1.0  1.0  ...  0.0  0.0  0.0   \n",
       "989  1.0  1.0  1.0  1.0  1.0  1.0  1.0  0.0  1.0  1.0  ...  0.0  0.0  0.0   \n",
       "999  1.0  1.0  1.0  1.0  1.0  1.0  1.0  1.0  0.0  1.0  ...  0.0  0.0  0.0   \n",
       "\n",
       "     937  948  958  968  979  989  999  \n",
       "111  1.0  1.0  1.0  1.0  1.0  1.0  1.0  \n",
       "121  1.0  1.0  1.0  1.0  1.0  1.0  1.0  \n",
       "131  0.0  1.0  1.0  1.0  1.0  1.0  1.0  \n",
       "142  1.0  0.0  1.0  1.0  1.0  1.0  1.0  \n",
       "152  1.0  1.0  0.0  1.0  1.0  1.0  1.0  \n",
       "..   ...  ...  ...  ...  ...  ...  ...  \n",
       "958  0.0  0.0  0.0  0.0  0.0  0.0  0.0  \n",
       "968  0.0  0.0  0.0  0.0  0.0  0.0  0.0  \n",
       "979  0.0  0.0  0.0  0.0  0.0  0.0  0.0  \n",
       "989  0.0  0.0  0.0  0.0  0.0  0.0  0.0  \n",
       "999  0.0  0.0  0.0  0.0  0.0  0.0  0.0  \n",
       "\n",
       "[81 rows x 81 columns]"
      ]
     },
     "execution_count": 42,
     "metadata": {},
     "output_type": "execute_result"
    }
   ],
   "source": [
    "df_matriz"
   ]
  },
  {
   "cell_type": "code",
   "execution_count": 43,
   "metadata": {},
   "outputs": [
    {
     "name": "stderr",
     "output_type": "stream",
     "text": [
      "C:\\Users\\vinic\\AppData\\Local\\Packages\\PythonSoftwareFoundation.Python.3.11_qbz5n2kfra8p0\\LocalCache\\local-packages\\Python311\\site-packages\\sklearn\\cluster\\_kmeans.py:1416: FutureWarning:\n",
      "\n",
      "The default value of `n_init` will change from 10 to 'auto' in 1.4. Set the value of `n_init` explicitly to suppress the warning\n",
      "\n"
     ]
    }
   ],
   "source": [
    "kmeans = KMeans(n_clusters=9, init='k-means++', random_state=0).fit(df_matriz.values)\n",
    "\n",
    "# Adicionando o resultado o kmeans\n",
    "df_matriz['kmeans'] = kmeans.labels_"
   ]
  },
  {
   "cell_type": "code",
   "execution_count": 44,
   "metadata": {},
   "outputs": [
    {
     "data": {
      "text/html": [
       "<div>\n",
       "<style scoped>\n",
       "    .dataframe tbody tr th:only-of-type {\n",
       "        vertical-align: middle;\n",
       "    }\n",
       "\n",
       "    .dataframe tbody tr th {\n",
       "        vertical-align: top;\n",
       "    }\n",
       "\n",
       "    .dataframe thead th {\n",
       "        text-align: right;\n",
       "    }\n",
       "</style>\n",
       "<table border=\"1\" class=\"dataframe\">\n",
       "  <thead>\n",
       "    <tr style=\"text-align: right;\">\n",
       "      <th></th>\n",
       "      <th>111</th>\n",
       "      <th>121</th>\n",
       "      <th>131</th>\n",
       "      <th>142</th>\n",
       "      <th>152</th>\n",
       "      <th>162</th>\n",
       "      <th>173</th>\n",
       "      <th>183</th>\n",
       "      <th>193</th>\n",
       "      <th>211</th>\n",
       "      <th>...</th>\n",
       "      <th>917</th>\n",
       "      <th>927</th>\n",
       "      <th>937</th>\n",
       "      <th>948</th>\n",
       "      <th>958</th>\n",
       "      <th>968</th>\n",
       "      <th>979</th>\n",
       "      <th>989</th>\n",
       "      <th>999</th>\n",
       "      <th>kmeans</th>\n",
       "    </tr>\n",
       "  </thead>\n",
       "  <tbody>\n",
       "    <tr>\n",
       "      <th>717</th>\n",
       "      <td>0.0</td>\n",
       "      <td>1.0</td>\n",
       "      <td>1.0</td>\n",
       "      <td>1.0</td>\n",
       "      <td>1.0</td>\n",
       "      <td>1.0</td>\n",
       "      <td>1.0</td>\n",
       "      <td>1.0</td>\n",
       "      <td>1.0</td>\n",
       "      <td>0.0</td>\n",
       "      <td>...</td>\n",
       "      <td>0.0</td>\n",
       "      <td>0.0</td>\n",
       "      <td>0.0</td>\n",
       "      <td>1.0</td>\n",
       "      <td>1.0</td>\n",
       "      <td>1.0</td>\n",
       "      <td>1.0</td>\n",
       "      <td>1.0</td>\n",
       "      <td>1.0</td>\n",
       "      <td>8</td>\n",
       "    </tr>\n",
       "    <tr>\n",
       "      <th>727</th>\n",
       "      <td>1.0</td>\n",
       "      <td>0.0</td>\n",
       "      <td>1.0</td>\n",
       "      <td>1.0</td>\n",
       "      <td>1.0</td>\n",
       "      <td>1.0</td>\n",
       "      <td>1.0</td>\n",
       "      <td>1.0</td>\n",
       "      <td>1.0</td>\n",
       "      <td>1.0</td>\n",
       "      <td>...</td>\n",
       "      <td>0.0</td>\n",
       "      <td>0.0</td>\n",
       "      <td>0.0</td>\n",
       "      <td>1.0</td>\n",
       "      <td>1.0</td>\n",
       "      <td>1.0</td>\n",
       "      <td>1.0</td>\n",
       "      <td>1.0</td>\n",
       "      <td>1.0</td>\n",
       "      <td>8</td>\n",
       "    </tr>\n",
       "    <tr>\n",
       "      <th>737</th>\n",
       "      <td>1.0</td>\n",
       "      <td>1.0</td>\n",
       "      <td>0.0</td>\n",
       "      <td>1.0</td>\n",
       "      <td>1.0</td>\n",
       "      <td>1.0</td>\n",
       "      <td>1.0</td>\n",
       "      <td>1.0</td>\n",
       "      <td>1.0</td>\n",
       "      <td>1.0</td>\n",
       "      <td>...</td>\n",
       "      <td>0.0</td>\n",
       "      <td>0.0</td>\n",
       "      <td>0.0</td>\n",
       "      <td>1.0</td>\n",
       "      <td>1.0</td>\n",
       "      <td>1.0</td>\n",
       "      <td>1.0</td>\n",
       "      <td>1.0</td>\n",
       "      <td>1.0</td>\n",
       "      <td>8</td>\n",
       "    </tr>\n",
       "    <tr>\n",
       "      <th>817</th>\n",
       "      <td>0.0</td>\n",
       "      <td>1.0</td>\n",
       "      <td>1.0</td>\n",
       "      <td>1.0</td>\n",
       "      <td>1.0</td>\n",
       "      <td>1.0</td>\n",
       "      <td>1.0</td>\n",
       "      <td>1.0</td>\n",
       "      <td>1.0</td>\n",
       "      <td>0.0</td>\n",
       "      <td>...</td>\n",
       "      <td>0.0</td>\n",
       "      <td>0.0</td>\n",
       "      <td>0.0</td>\n",
       "      <td>1.0</td>\n",
       "      <td>1.0</td>\n",
       "      <td>1.0</td>\n",
       "      <td>1.0</td>\n",
       "      <td>1.0</td>\n",
       "      <td>1.0</td>\n",
       "      <td>8</td>\n",
       "    </tr>\n",
       "    <tr>\n",
       "      <th>827</th>\n",
       "      <td>1.0</td>\n",
       "      <td>0.0</td>\n",
       "      <td>1.0</td>\n",
       "      <td>1.0</td>\n",
       "      <td>1.0</td>\n",
       "      <td>1.0</td>\n",
       "      <td>1.0</td>\n",
       "      <td>1.0</td>\n",
       "      <td>1.0</td>\n",
       "      <td>1.0</td>\n",
       "      <td>...</td>\n",
       "      <td>0.0</td>\n",
       "      <td>0.0</td>\n",
       "      <td>0.0</td>\n",
       "      <td>1.0</td>\n",
       "      <td>1.0</td>\n",
       "      <td>1.0</td>\n",
       "      <td>1.0</td>\n",
       "      <td>1.0</td>\n",
       "      <td>1.0</td>\n",
       "      <td>8</td>\n",
       "    </tr>\n",
       "    <tr>\n",
       "      <th>837</th>\n",
       "      <td>1.0</td>\n",
       "      <td>1.0</td>\n",
       "      <td>0.0</td>\n",
       "      <td>1.0</td>\n",
       "      <td>1.0</td>\n",
       "      <td>1.0</td>\n",
       "      <td>1.0</td>\n",
       "      <td>1.0</td>\n",
       "      <td>1.0</td>\n",
       "      <td>1.0</td>\n",
       "      <td>...</td>\n",
       "      <td>0.0</td>\n",
       "      <td>0.0</td>\n",
       "      <td>0.0</td>\n",
       "      <td>1.0</td>\n",
       "      <td>1.0</td>\n",
       "      <td>1.0</td>\n",
       "      <td>1.0</td>\n",
       "      <td>1.0</td>\n",
       "      <td>1.0</td>\n",
       "      <td>8</td>\n",
       "    </tr>\n",
       "    <tr>\n",
       "      <th>917</th>\n",
       "      <td>0.0</td>\n",
       "      <td>1.0</td>\n",
       "      <td>1.0</td>\n",
       "      <td>1.0</td>\n",
       "      <td>1.0</td>\n",
       "      <td>1.0</td>\n",
       "      <td>1.0</td>\n",
       "      <td>1.0</td>\n",
       "      <td>1.0</td>\n",
       "      <td>0.0</td>\n",
       "      <td>...</td>\n",
       "      <td>0.0</td>\n",
       "      <td>0.0</td>\n",
       "      <td>0.0</td>\n",
       "      <td>0.0</td>\n",
       "      <td>0.0</td>\n",
       "      <td>0.0</td>\n",
       "      <td>0.0</td>\n",
       "      <td>0.0</td>\n",
       "      <td>0.0</td>\n",
       "      <td>8</td>\n",
       "    </tr>\n",
       "    <tr>\n",
       "      <th>927</th>\n",
       "      <td>1.0</td>\n",
       "      <td>0.0</td>\n",
       "      <td>1.0</td>\n",
       "      <td>1.0</td>\n",
       "      <td>1.0</td>\n",
       "      <td>1.0</td>\n",
       "      <td>1.0</td>\n",
       "      <td>1.0</td>\n",
       "      <td>1.0</td>\n",
       "      <td>1.0</td>\n",
       "      <td>...</td>\n",
       "      <td>0.0</td>\n",
       "      <td>0.0</td>\n",
       "      <td>0.0</td>\n",
       "      <td>0.0</td>\n",
       "      <td>0.0</td>\n",
       "      <td>0.0</td>\n",
       "      <td>0.0</td>\n",
       "      <td>0.0</td>\n",
       "      <td>0.0</td>\n",
       "      <td>8</td>\n",
       "    </tr>\n",
       "    <tr>\n",
       "      <th>937</th>\n",
       "      <td>1.0</td>\n",
       "      <td>1.0</td>\n",
       "      <td>0.0</td>\n",
       "      <td>1.0</td>\n",
       "      <td>1.0</td>\n",
       "      <td>1.0</td>\n",
       "      <td>1.0</td>\n",
       "      <td>1.0</td>\n",
       "      <td>1.0</td>\n",
       "      <td>1.0</td>\n",
       "      <td>...</td>\n",
       "      <td>0.0</td>\n",
       "      <td>0.0</td>\n",
       "      <td>0.0</td>\n",
       "      <td>0.0</td>\n",
       "      <td>0.0</td>\n",
       "      <td>0.0</td>\n",
       "      <td>0.0</td>\n",
       "      <td>0.0</td>\n",
       "      <td>0.0</td>\n",
       "      <td>8</td>\n",
       "    </tr>\n",
       "  </tbody>\n",
       "</table>\n",
       "<p>9 rows × 82 columns</p>\n",
       "</div>"
      ],
      "text/plain": [
       "     111  121  131  142  152  162  173  183  193  211  ...  917  927  937  \\\n",
       "717  0.0  1.0  1.0  1.0  1.0  1.0  1.0  1.0  1.0  0.0  ...  0.0  0.0  0.0   \n",
       "727  1.0  0.0  1.0  1.0  1.0  1.0  1.0  1.0  1.0  1.0  ...  0.0  0.0  0.0   \n",
       "737  1.0  1.0  0.0  1.0  1.0  1.0  1.0  1.0  1.0  1.0  ...  0.0  0.0  0.0   \n",
       "817  0.0  1.0  1.0  1.0  1.0  1.0  1.0  1.0  1.0  0.0  ...  0.0  0.0  0.0   \n",
       "827  1.0  0.0  1.0  1.0  1.0  1.0  1.0  1.0  1.0  1.0  ...  0.0  0.0  0.0   \n",
       "837  1.0  1.0  0.0  1.0  1.0  1.0  1.0  1.0  1.0  1.0  ...  0.0  0.0  0.0   \n",
       "917  0.0  1.0  1.0  1.0  1.0  1.0  1.0  1.0  1.0  0.0  ...  0.0  0.0  0.0   \n",
       "927  1.0  0.0  1.0  1.0  1.0  1.0  1.0  1.0  1.0  1.0  ...  0.0  0.0  0.0   \n",
       "937  1.0  1.0  0.0  1.0  1.0  1.0  1.0  1.0  1.0  1.0  ...  0.0  0.0  0.0   \n",
       "\n",
       "     948  958  968  979  989  999  kmeans  \n",
       "717  1.0  1.0  1.0  1.0  1.0  1.0       8  \n",
       "727  1.0  1.0  1.0  1.0  1.0  1.0       8  \n",
       "737  1.0  1.0  1.0  1.0  1.0  1.0       8  \n",
       "817  1.0  1.0  1.0  1.0  1.0  1.0       8  \n",
       "827  1.0  1.0  1.0  1.0  1.0  1.0       8  \n",
       "837  1.0  1.0  1.0  1.0  1.0  1.0       8  \n",
       "917  0.0  0.0  0.0  0.0  0.0  0.0       8  \n",
       "927  0.0  0.0  0.0  0.0  0.0  0.0       8  \n",
       "937  0.0  0.0  0.0  0.0  0.0  0.0       8  \n",
       "\n",
       "[9 rows x 82 columns]"
      ]
     },
     "execution_count": 44,
     "metadata": {},
     "output_type": "execute_result"
    }
   ],
   "source": [
    "df_matriz[df_matriz[\"kmeans\"] == 8]"
   ]
  }
 ],
 "metadata": {
  "kernelspec": {
   "display_name": "Python 3",
   "language": "python",
   "name": "python3"
  },
  "language_info": {
   "codemirror_mode": {
    "name": "ipython",
    "version": 3
   },
   "file_extension": ".py",
   "mimetype": "text/x-python",
   "name": "python",
   "nbconvert_exporter": "python",
   "pygments_lexer": "ipython3",
   "version": "3.11.6"
  }
 },
 "nbformat": 4,
 "nbformat_minor": 2
}

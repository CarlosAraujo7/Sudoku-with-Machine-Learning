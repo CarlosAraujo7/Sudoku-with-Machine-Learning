{
 "cells": [
  {
   "cell_type": "markdown",
   "metadata": {},
   "source": [
    "- Ordem de afazeres\n",
    "\n",
    "    - Construção do dataframe por completo (falta programar as adjacências) e aplicar o K-means\n",
    "\n",
    "    - Complexidade do problema\n",
    "\n",
    "    - Formas de resolver\n",
    "\n",
    "    - Outros algoritmos que resolvem o problema\n",
    "\n",
    "    - Algoritmos verificadores de resolução\n",
    "\n",
    "    - Modelagem do problema NP completo para coloração de grafos\n",
    "\n",
    "    - Abordagem pretendida para o problema\n",
    "\n",
    "    - Tipos diferentes de sudoku"
   ]
  },
  {
   "cell_type": "markdown",
   "metadata": {},
   "source": [
    "#### Sobre o problema"
   ]
  },
  {
   "cell_type": "markdown",
   "metadata": {},
   "source": [
    "- O Sudoku Clássico consiste em uma grade 9x9 `(com um pequeno quadrado (célula) para cada número e uma outra divisão em grades de 3x3, representando as regiões (quadrantes))`, parcialmente preenchida, onde devem ser encontrados os locais corretos para preencher com números de 1 a 9, de modo com que nenhum número se repita na mesma linha, coluna ou quadrante."
   ]
  },
  {
   "cell_type": "markdown",
   "metadata": {},
   "source": [
    "<center>\n",
    "<img src=\"https://upload.wikimedia.org/wikipedia/commons/thumb/f/ff/Sudoku-by-L2G-20050714.svg/250px-Sudoku-by-L2G-20050714.svg.png\" alt=\"Sudoku Clássico\">\n",
    "\n",
    "<img src=\"https://upload.wikimedia.org/wikipedia/commons/thumb/3/31/Sudoku-by-L2G-20050714_solution.svg/250px-Sudoku-by-L2G-20050714_solution.svg.png\" alt=\"Sudoku Clássico Resolvido\">\n",
    "</center>"
   ]
  },
  {
   "cell_type": "code",
   "execution_count": null,
   "metadata": {},
   "outputs": [],
   "source": []
  },
  {
   "cell_type": "markdown",
   "metadata": {},
   "source": [
    "#### Bibliotecas"
   ]
  },
  {
   "cell_type": "code",
   "execution_count": null,
   "metadata": {},
   "outputs": [],
   "source": [
    "import pandas as pd\n",
    "import numpy as np"
   ]
  },
  {
   "cell_type": "markdown",
   "metadata": {},
   "source": [
    "#### Criação do dataframe"
   ]
  },
  {
   "cell_type": "code",
   "execution_count": null,
   "metadata": {},
   "outputs": [],
   "source": [
    "def create_sudoku_dataframe(N):\n",
    "\n",
    "    data = []\n",
    "\n",
    "    for line in range(1, N + 1): # For the lines\n",
    "        for column in range(1, N + 1): # For de columns\n",
    "            quadrant = (line - 1) // int(np.sqrt(N)) * int(np.sqrt(N)) + (column - 1) // int(np.sqrt(N)) + 1\n",
    "                # Formula for calculating quadrants in Sudoku\n",
    "            data.append([line, column, quadrant, None, None, None])\n",
    "\n",
    "    columns = ['line_v', 'column_v', 'quadrant_v', 'adjacent_vertices_line', 'adjacent_vertices_column', 'adjacent_vertices_quadrant']\n",
    "    data_frame = pd.DataFrame(data, columns = columns)\n",
    "\n",
    "    return data_frame.values\n",
    "\n",
    "N = 9\n",
    "\n",
    "if N % 3 == 0: # It will only accept sudoku sizes that are multiples of 3 to standardize the quadrants\n",
    "    sudoku_df = create_sudoku_dataframe(N)\n",
    "    print(sudoku_df)\n",
    "else:\n",
    "    print(\"The size of N is not a multiple of 3.\")\n"
   ]
  }
 ],
 "metadata": {
  "kernelspec": {
   "display_name": "Python 3",
   "language": "python",
   "name": "python3"
  },
  "language_info": {
   "codemirror_mode": {
    "name": "ipython",
    "version": 3
   },
   "file_extension": ".py",
   "mimetype": "text/x-python",
   "name": "python",
   "nbconvert_exporter": "python",
   "pygments_lexer": "ipython3",
   "version": "3.10.12"
  }
 },
 "nbformat": 4,
 "nbformat_minor": 2
}

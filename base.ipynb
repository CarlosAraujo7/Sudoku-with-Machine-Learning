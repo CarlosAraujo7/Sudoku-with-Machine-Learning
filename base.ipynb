{
 "cells": [
  {
   "cell_type": "markdown",
   "metadata": {},
   "source": [
    "- Ordem de afazeres\n",
    "\n",
    "    - Construção do dataframe por completo (falta programar as adjacências) e aplicar o K-means\n",
    "\n",
    "    - Complexidade do problema\n",
    "\n",
    "    - Formas de resolver\n",
    "\n",
    "    - Outros algoritmos que resolvem o problema\n",
    "\n",
    "    - Algoritmos verificadores de resolução\n",
    "\n",
    "    - Modelagem do problema NP completo para coloração de grafos\n",
    "\n",
    "    - Abordagem pretendida para o problema\n",
    "\n",
    "    - Tipos diferentes de sudoku"
   ]
  },
  {
   "cell_type": "markdown",
   "metadata": {},
   "source": [
    "#### Sobre o problema"
   ]
  },
  {
   "cell_type": "markdown",
   "metadata": {},
   "source": [
    "- O Sudoku Clássico consiste em uma grade 9x9 `(com um pequeno quadrado (célula) para cada número e uma outra divisão em grades de 3x3, representando as regiões (quadrantes))`, parcialmente preenchida, onde devem ser encontrados os locais corretos para preencher com números de 1 a 9, de modo com que nenhum número se repita na mesma linha, coluna ou quadrante."
   ]
  },
  {
   "cell_type": "markdown",
   "metadata": {},
   "source": [
    "<center>\n",
    "<img src=\"https://upload.wikimedia.org/wikipedia/commons/thumb/f/ff/Sudoku-by-L2G-20050714.svg/250px-Sudoku-by-L2G-20050714.svg.png\" alt=\"Sudoku Clássico\">\n",
    "\n",
    "<img src=\"https://upload.wikimedia.org/wikipedia/commons/thumb/3/31/Sudoku-by-L2G-20050714_solution.svg/250px-Sudoku-by-L2G-20050714_solution.svg.png\" alt=\"Sudoku Clássico Resolvido\">\n",
    "</center>"
   ]
  },
  {
   "cell_type": "markdown",
   "metadata": {},
   "source": [
    "- Em algumas instâncias do sudoku parcialmente preenchido, é possível encontrar mais de uma solução possível, mas como o sudoku é considerado um problema de lógica pura, é esperado que exista somente uma solução possível. "
   ]
  },
  {
   "cell_type": "markdown",
   "metadata": {},
   "source": [
    "#### Variantes do sudoku"
   ]
  },
  {
   "cell_type": "markdown",
   "metadata": {},
   "source": [
    "- O sudoku de 9x9 é o mais conhecido, porém, existem diversas variações do problema com outros tamanhos e abordagens. Abaixo segue uma representação de um sudoku 9x9, mas com seus quadrantes definidos aleatoriamente."
   ]
  },
  {
   "cell_type": "markdown",
   "metadata": {},
   "source": [
    "<center>\n",
    "<img src=\"https://upload.wikimedia.org/wikipedia/commons/thumb/5/5f/Nonomino_Sudoku.svg/220px-Nonomino_Sudoku.svg.png\" alt=\"Sudoku Variante\">\n",
    "</center>"
   ]
  },
  {
   "cell_type": "markdown",
   "metadata": {},
   "source": [
    "- Modelagem do sudoku de tamanho 10x10"
   ]
  },
  {
   "cell_type": "markdown",
   "metadata": {},
   "source": [
    "<center>\n",
    "<img src=\"10x10.png\" alt=\"Sudoku 10x10\" width=\"250\" height=\"250\">\n",
    "</center>"
   ]
  },
  {
   "cell_type": "markdown",
   "metadata": {},
   "source": [
    "#### Abordagem planejada"
   ]
  },
  {
   "cell_type": "markdown",
   "metadata": {},
   "source": [
    "- Planejamos uma abordagem `não-supervisionada` de máquina, onde vamos modelar a `grade` do sudoku para um formato de grafo. O tamanho da grade do sudoku não vai ser fixo, estamos planejando trabalhar com um `n-sudoku`. Para representar as restrições do sudoku, planejamos utilizar algum algoritmo de coloração de vértices `(em aberto ainda)` e considerar cada cluster como sendo uma cor. Exemplo, para um sudoku 9x9, teríamos 81 vértices e 9 clusters, onde cada vértice é adjacente a todos os outros vértices de sua linha, coluna e região. "
   ]
  },
  {
   "cell_type": "markdown",
   "metadata": {},
   "source": [
    "#### Problemas esperados"
   ]
  },
  {
   "cell_type": "markdown",
   "metadata": {},
   "source": [
    "- Para uma abordagem com n-sudokus, é esperado que para alguns tamanhos de grade, como 10x10 ou 11x11, a forma como os quadrantes vão ser construidos pode acabar se tornando um contra-tempo na hora de visualizar melhor o agrupamento dos clusters. Por isso, optamos em trabalhar com grades que sejam múltiplas de três, de forma a padronizar as saídas e melhorar a visualização."
   ]
  },
  {
   "cell_type": "markdown",
   "metadata": {},
   "source": [
    "- Segundo problema esperado, devido ao número elevado de ligações e de adjacências entre os vértices, é provável que acabe ocorrendo colisões de dados ao executar o K-means. Estamos pensando em uma abordagem que consiga afastar os dados o máximo possível uns dos outros."
   ]
  },
  {
   "cell_type": "markdown",
   "metadata": {},
   "source": [
    "<center>\n",
    "<img src=\"ligações.png\" alt=\"Sudoku 10x10\">\n",
    "</center>"
   ]
  },
  {
   "cell_type": "markdown",
   "metadata": {},
   "source": [
    "#### Bibliotecas"
   ]
  },
  {
   "cell_type": "code",
   "execution_count": null,
   "metadata": {},
   "outputs": [],
   "source": [
    "import pandas as pd\n",
    "import numpy as np"
   ]
  },
  {
   "cell_type": "markdown",
   "metadata": {},
   "source": [
    "#### Criação do dataframe"
   ]
  },
  {
   "cell_type": "code",
   "execution_count": null,
   "metadata": {},
   "outputs": [],
   "source": [
    "def create_sudoku_dataframe(N):\n",
    "\n",
    "    data = []\n",
    "\n",
    "    for line in range(1, N + 1): # For the lines\n",
    "        for column in range(1, N + 1): # For de columns\n",
    "            quadrant = (line - 1) // int(np.sqrt(N)) * int(np.sqrt(N)) + (column - 1) // int(np.sqrt(N)) + 1\n",
    "                # Formula for calculating quadrants in Sudoku\n",
    "            data.append([line, column, quadrant, None, None, None])\n",
    "\n",
    "    columns = ['line_v', 'column_v', 'quadrant_v', 'adjacent_vertices_line', 'adjacent_vertices_column', 'adjacent_vertices_quadrant']\n",
    "    data_frame = pd.DataFrame(data, columns = columns)\n",
    "\n",
    "    return data_frame.values\n",
    "\n",
    "N = 9\n",
    "\n",
    "if N % 3 == 0: # It will only accept sudoku sizes that are multiples of 3 to standardize the quadrants\n",
    "    sudoku_df = create_sudoku_dataframe(N)\n",
    "    print(sudoku_df)\n",
    "else:\n",
    "    print(\"The size of N is not a multiple of 3.\")\n"
   ]
  }
 ],
 "metadata": {
  "kernelspec": {
   "display_name": "Python 3",
   "language": "python",
   "name": "python3"
  },
  "language_info": {
   "codemirror_mode": {
    "name": "ipython",
    "version": 3
   },
   "file_extension": ".py",
   "mimetype": "text/x-python",
   "name": "python",
   "nbconvert_exporter": "python",
   "pygments_lexer": "ipython3",
   "version": "3.10.12"
  }
 },
 "nbformat": 4,
 "nbformat_minor": 2
}
